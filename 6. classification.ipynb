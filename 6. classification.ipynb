{
 "cells": [
  {
   "cell_type": "code",
   "execution_count": 1,
   "metadata": {},
   "outputs": [],
   "source": [
    "import torch\n",
    "import torch.nn as nn\n",
    "import torch.nn.functional as F\n",
    "from torch.utils.data import Dataset, DataLoader\n",
    "from sklearn.datasets import load_breast_cancer\n",
    "from sklearn.model_selection import train_test_split"
   ]
  },
  {
   "cell_type": "markdown",
   "metadata": {},
   "source": [
    "## Classification\n",
    "\n",
    "- binary classification : BCELoss used will provide the sigmodi value to this loss.\n",
    "- multiclass classification : CrossEntropyLoss used, we will provide the raw value because internally it implemented the softmax"
   ]
  },
  {
   "cell_type": "code",
   "execution_count": 2,
   "metadata": {},
   "outputs": [
    {
     "name": "stdout",
     "output_type": "stream",
     "text": [
      "(455, 30) (455,)\n",
      "(114, 30) (114,)\n",
      "torch.Size([455, 30]) torch.Size([455, 1])\n",
      "torch.Size([114, 30]) torch.Size([114, 1])\n"
     ]
    }
   ],
   "source": [
    "X,y = load_breast_cancer(return_X_y=True)\n",
    "\n",
    "X_train,X_test, y_train, y_test = train_test_split(X,y, test_size = .2, random_state = 42, stratify = y)\n",
    "print(X_train.shape, y_train.shape)\n",
    "print(X_test.shape, y_test.shape)\n",
    "\n",
    "X_train = torch.from_numpy(X_train).type(torch.float32)\n",
    "y_train = torch.from_numpy(y_train).type(torch.float32)\n",
    "X_test = torch.from_numpy(X_test).type(torch.float32)\n",
    "y_test = torch.from_numpy(y_test).type(torch.float32)\n",
    "y_train = y_train.view(y_train.shape[0],1)\n",
    "y_test = y_test.view(y_test.shape[0],1)\n",
    "\n",
    "print(X_train.shape, y_train.shape)\n",
    "print(X_test.shape, y_test.shape)"
   ]
  },
  {
   "cell_type": "code",
   "execution_count": 3,
   "metadata": {},
   "outputs": [],
   "source": [
    "## Create dataset\n",
    "class CustomDataset(Dataset):\n",
    "    \n",
    "    def __init__(self, X,y):\n",
    "        self.X = X\n",
    "        self.y = y\n",
    "        self.samples = X.shape[0]\n",
    "    \n",
    "    ## mandatory\n",
    "    def __getitem__(self, index):\n",
    "        return self.X[index], self.y[index]\n",
    "    \n",
    "    ## mandatory\n",
    "    def __len__(self):\n",
    "        return self.samples\n",
    "    \n",
    "    \n",
    "    ## optional\n",
    "    def __str__(self):\n",
    "        return f\"Dataset having samples : {self.samples}\""
   ]
  },
  {
   "cell_type": "code",
   "execution_count": 4,
   "metadata": {},
   "outputs": [],
   "source": [
    "train_dataset = CustomDataset(X_train,y_train)\n",
    "test_dataset = CustomDataset(X_test,y_test)"
   ]
  },
  {
   "cell_type": "code",
   "execution_count": 5,
   "metadata": {},
   "outputs": [
    {
     "name": "stdout",
     "output_type": "stream",
     "text": [
      "tensor([1.0320e+01, 1.6350e+01, 6.5310e+01, 3.2490e+02, 9.4340e-02, 4.9940e-02,\n",
      "        1.0120e-02, 5.4950e-03, 1.8850e-01, 6.2010e-02, 2.1040e-01, 9.6700e-01,\n",
      "        1.3560e+00, 1.2970e+01, 7.0860e-03, 7.2470e-03, 1.0120e-02, 5.4950e-03,\n",
      "        1.5600e-02, 2.6060e-03, 1.1250e+01, 2.1770e+01, 7.1120e+01, 3.8490e+02,\n",
      "        1.2850e-01, 8.8420e-02, 4.3840e-02, 2.3810e-02, 2.6810e-01, 7.3990e-02])\n",
      "tensor([1.])\n"
     ]
    }
   ],
   "source": [
    "first_sample = train_dataset[0]\n",
    "features, labels = first_sample\n",
    "print(features)\n",
    "print(labels)"
   ]
  },
  {
   "cell_type": "code",
   "execution_count": 6,
   "metadata": {},
   "outputs": [],
   "source": [
    "train_dataloader = DataLoader(train_dataset, batch_size=4, shuffle=True, num_workers=2)\n",
    "test_dataloader = DataLoader(test_dataset, batch_size=4, shuffle=False, num_workers=0)"
   ]
  },
  {
   "cell_type": "code",
   "execution_count": 7,
   "metadata": {},
   "outputs": [
    {
     "name": "stdout",
     "output_type": "stream",
     "text": [
      "tensor([[1.5530e+01, 3.3560e+01, 1.0370e+02, 7.4490e+02, 1.0630e-01, 1.6390e-01,\n",
      "         1.7510e-01, 8.3990e-02, 2.0910e-01, 6.6500e-02, 2.4190e-01, 1.2780e+00,\n",
      "         1.9030e+00, 2.3020e+01, 5.3450e-03, 2.5560e-02, 2.8890e-02, 1.0220e-02,\n",
      "         9.9470e-03, 3.3590e-03, 1.8490e+01, 4.9540e+01, 1.2630e+02, 1.0350e+03,\n",
      "         1.8830e-01, 5.5640e-01, 5.7030e-01, 2.0140e-01, 3.5120e-01, 1.2040e-01],\n",
      "        [2.3210e+01, 2.6970e+01, 1.5350e+02, 1.6700e+03, 9.5090e-02, 1.6820e-01,\n",
      "         1.9500e-01, 1.2370e-01, 1.9090e-01, 6.3090e-02, 1.0580e+00, 9.6350e-01,\n",
      "         7.2470e+00, 1.5580e+02, 6.4280e-03, 2.8630e-02, 4.4970e-02, 1.7160e-02,\n",
      "         1.5900e-02, 3.0530e-03, 3.1010e+01, 3.4510e+01, 2.0600e+02, 2.9440e+03,\n",
      "         1.4810e-01, 4.1260e-01, 5.8200e-01, 2.5930e-01, 3.1030e-01, 8.6770e-02],\n",
      "        [2.0310e+01, 2.7060e+01, 1.3290e+02, 1.2880e+03, 1.0000e-01, 1.0880e-01,\n",
      "         1.5190e-01, 9.3330e-02, 1.8140e-01, 5.5720e-02, 3.9770e-01, 1.0330e+00,\n",
      "         2.5870e+00, 5.2340e+01, 5.0430e-03, 1.5780e-02, 2.1170e-02, 8.1850e-03,\n",
      "         1.2820e-02, 1.8920e-03, 2.4330e+01, 3.9160e+01, 1.6230e+02, 1.8440e+03,\n",
      "         1.5220e-01, 2.9450e-01, 3.7880e-01, 1.6970e-01, 3.1510e-01, 7.9990e-02],\n",
      "        [1.1870e+01, 2.1540e+01, 7.6830e+01, 4.3200e+02, 6.6130e-02, 1.0640e-01,\n",
      "         8.7770e-02, 2.3860e-02, 1.3490e-01, 6.6120e-02, 2.5600e-01, 1.5540e+00,\n",
      "         1.9550e+00, 2.0240e+01, 6.8540e-03, 6.0630e-02, 6.6630e-02, 1.5530e-02,\n",
      "         2.3540e-02, 8.9250e-03, 1.2790e+01, 2.8180e+01, 8.3510e+01, 5.0720e+02,\n",
      "         9.4570e-02, 3.3990e-01, 3.2180e-01, 8.7500e-02, 2.3050e-01, 9.9520e-02]])\n",
      "tensor([[0.],\n",
      "        [0.],\n",
      "        [0.],\n",
      "        [1.]])\n"
     ]
    }
   ],
   "source": [
    "examples = iter(train_dataloader)\n",
    "samples = examples.next()\n",
    "features, labels = samples\n",
    "print(features)\n",
    "print(labels)"
   ]
  },
  {
   "cell_type": "code",
   "execution_count": 8,
   "metadata": {},
   "outputs": [],
   "source": [
    "## Linear Model\n",
    "class RegressionNet(nn.Module):\n",
    "    \n",
    "    def __init__(self, input_size, output_size):\n",
    "        super(RegressionNet, self).__init__()\n",
    "        self.fc1 = nn.Linear(input_size, output_size)\n",
    "        \n",
    "        \n",
    "    def forward(self, x):\n",
    "        x = torch.sigmoid(self.fc1(x))\n",
    "        return x"
   ]
  },
  {
   "cell_type": "code",
   "execution_count": 9,
   "metadata": {},
   "outputs": [
    {
     "name": "stdout",
     "output_type": "stream",
     "text": [
      "Training loss : 0.7504\n",
      "Epoch : 10, Validation Accuracy : 0.9211\n",
      "Training loss : 0.0000\n",
      "Epoch : 20, Validation Accuracy : 0.8860\n",
      "Training loss : 0.5261\n",
      "Epoch : 30, Validation Accuracy : 0.9123\n",
      "Training loss : 0.0431\n",
      "Epoch : 40, Validation Accuracy : 0.9298\n",
      "Training loss : 0.0491\n",
      "Epoch : 50, Validation Accuracy : 0.9123\n",
      "Training loss : 0.0302\n",
      "Epoch : 60, Validation Accuracy : 0.7982\n",
      "Training loss : 1.3932\n",
      "Epoch : 70, Validation Accuracy : 0.8070\n",
      "Training loss : 0.0000\n",
      "Epoch : 80, Validation Accuracy : 0.9123\n",
      "Training loss : 0.0129\n",
      "Epoch : 90, Validation Accuracy : 0.9035\n",
      "Training loss : 0.0046\n",
      "Epoch : 100, Validation Accuracy : 0.9386\n"
     ]
    }
   ],
   "source": [
    "sampels, features = X_train.shape\n",
    "input_size = features\n",
    "output_size = 1\n",
    "lr = 0.00001\n",
    "n_iters = 100\n",
    "\n",
    "model = RegressionNet(input_size, output_size)\n",
    "criteria = nn.BCELoss()\n",
    "optimizer = torch.optim.SGD(model.parameters(), lr = lr)\n",
    "\n",
    "\n",
    "def evaluate(model, test_dataloader):\n",
    "    \n",
    "    total_correct = 0\n",
    "    total_samples = 0\n",
    "    accuracy= 0.0\n",
    "    \n",
    "    model.eval()\n",
    "    \n",
    "    for i,(inputs, targets) in enumerate(test_dataloader):\n",
    "        y_preds = model(inputs)\n",
    "        y_preds_cls = y_preds.round()\n",
    "\n",
    "        total_correct += y_preds_cls.eq(targets).sum() \n",
    "        total_samples += float(targets.shape[0])\n",
    "    \n",
    "    accuracy = total_correct/total_samples\n",
    "    print(f\"Epoch : {epoch+1}, Validation Accuracy : {accuracy:.4f}\")\n",
    "\n",
    "## Training loop\n",
    "for epoch in range(n_iters):\n",
    "    model.train()\n",
    "    for i,(inputs, targets) in enumerate(train_dataloader):\n",
    "        y_preds = model(inputs)\n",
    "        loss = criteria(y_preds,targets)\n",
    "        \n",
    "        loss.backward()\n",
    "        optimizer.step()\n",
    "        optimizer.zero_grad()\n",
    "        \n",
    "    if (epoch+1)%10==0:\n",
    "        print(f\"Training loss : {loss.item():.4f}\")\n",
    "        evaluate(model, test_dataloader)"
   ]
  },
  {
   "cell_type": "code",
   "execution_count": null,
   "metadata": {},
   "outputs": [],
   "source": []
  }
 ],
 "metadata": {
  "kernelspec": {
   "display_name": "Python 3",
   "language": "python",
   "name": "python3"
  },
  "language_info": {
   "codemirror_mode": {
    "name": "ipython",
    "version": 3
   },
   "file_extension": ".py",
   "mimetype": "text/x-python",
   "name": "python",
   "nbconvert_exporter": "python",
   "pygments_lexer": "ipython3",
   "version": "3.7.6"
  }
 },
 "nbformat": 4,
 "nbformat_minor": 4
}
