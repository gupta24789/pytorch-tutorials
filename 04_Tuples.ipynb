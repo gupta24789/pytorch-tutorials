{
  "nbformat": 4,
  "nbformat_minor": 0,
  "metadata": {
    "colab": {
      "provenance": [],
      "authorship_tag": "ABX9TyMfWtWgljvnYKL7PNf1jddc",
      "include_colab_link": true
    },
    "kernelspec": {
      "name": "python3",
      "display_name": "Python 3"
    },
    "language_info": {
      "name": "python"
    }
  },
  "cells": [
    {
      "cell_type": "markdown",
      "metadata": {
        "id": "view-in-github",
        "colab_type": "text"
      },
      "source": [
        "<a href=\"https://colab.research.google.com/github/gupta24789/pytorch_tutorials/blob/main/04_Tuples.ipynb\" target=\"_parent\"><img src=\"https://colab.research.google.com/assets/colab-badge.svg\" alt=\"Open In Colab\"/></a>"
      ]
    },
    {
      "cell_type": "markdown",
      "source": [
        "## Tuples\n",
        "\n",
        "- used to store multiple items in a single variable.\n",
        "- A tuple is a collection which is ordered and unchangeable.\n",
        "- Tuples are written with round brackets\n",
        "- duplicates values are allowded\n",
        "- data type is <class 'tuple'>\n",
        "- Using the tuple() method to make a tuple\n",
        "\n",
        "-  tuples are immutable, they do not have a built-in append() method\n",
        "- You are allowed to add tuples to tuples, so if you want to add one item, (or many), create a new tuple with the item(s), and add it to the existing tuple\n",
        "\n",
        "- accessing tuples items are same as list\n",
        "\n",
        "\n",
        "\n",
        "## Tuple Methods\n",
        "| Method  | Description                                                                             |\n",
        "|---------|-----------------------------------------------------------------------------------------|\n",
        "| count() | Returns the number of times a specified value occurs in a tuple                         |\n",
        "| index() | Searches the tuple for a specified value and returns the position of where it was found |"
      ],
      "metadata": {
        "id": "7aDBpf4mLRhj"
      }
    },
    {
      "cell_type": "code",
      "source": [
        "### Create Tuple With One Item\n",
        "\n",
        "thistuple = (\"apple\",)\n",
        "print(type(thistuple))\n",
        "\n",
        "#NOT a tuple\n",
        "thistuple = (\"apple\")\n",
        "print(type(thistuple))"
      ],
      "metadata": {
        "colab": {
          "base_uri": "https://localhost:8080/"
        },
        "id": "ohpbXGmsLnuk",
        "outputId": "ee778211-8a4d-4418-aa52-11350c090bef"
      },
      "execution_count": 1,
      "outputs": [
        {
          "output_type": "stream",
          "name": "stdout",
          "text": [
            "<class 'tuple'>\n",
            "<class 'str'>\n"
          ]
        }
      ]
    },
    {
      "cell_type": "code",
      "source": [
        "## create tuple with constructor\n",
        "thistuple = tuple((\"apple\", \"banana\", \"cherry\")) # note the double round-brackets\n",
        "print(thistuple)"
      ],
      "metadata": {
        "colab": {
          "base_uri": "https://localhost:8080/"
        },
        "id": "YLuzJKqGLpa3",
        "outputId": "7bd5d24b-4e9e-4fe0-916f-0d851f52c960"
      },
      "execution_count": 2,
      "outputs": [
        {
          "output_type": "stream",
          "name": "stdout",
          "text": [
            "('apple', 'banana', 'cherry')\n"
          ]
        }
      ]
    },
    {
      "cell_type": "code",
      "source": [
        "## Add two tuples\n",
        "thistuple = (\"apple\", \"banana\", \"cherry\")\n",
        "y = (\"orange\",)\n",
        "thistuple += y\n",
        "\n",
        "print(thistuple)"
      ],
      "metadata": {
        "colab": {
          "base_uri": "https://localhost:8080/"
        },
        "id": "4cBfich0L_0k",
        "outputId": "27a414a5-8850-4cdd-e15c-d5e43ca8e8f8"
      },
      "execution_count": 3,
      "outputs": [
        {
          "output_type": "stream",
          "name": "stdout",
          "text": [
            "('apple', 'banana', 'cherry', 'orange')\n"
          ]
        }
      ]
    },
    {
      "cell_type": "markdown",
      "source": [
        "## Tuple Unpacking/List Unpacking"
      ],
      "metadata": {
        "id": "VdnEdOPZxUac"
      }
    },
    {
      "cell_type": "code",
      "source": [
        "a,b,c = (1,2,3)\n",
        "print(a)\n",
        "print(b)\n",
        "print(c)"
      ],
      "metadata": {
        "colab": {
          "base_uri": "https://localhost:8080/"
        },
        "id": "hRTQhf-bMPe4",
        "outputId": "baea3246-6358-47e9-bce4-e6cda4a2b4d4"
      },
      "execution_count": 4,
      "outputs": [
        {
          "output_type": "stream",
          "name": "stdout",
          "text": [
            "1\n",
            "2\n",
            "3\n"
          ]
        }
      ]
    },
    {
      "cell_type": "code",
      "source": [
        "## If the number of variables is less than the number of values,\n",
        "## you can add an * to the variable name and the values will be assigned to the variable as a list:\n",
        "\n",
        "a,b,*c = (1,2,3,4,5)\n",
        "print(a)\n",
        "print(b)\n",
        "print(c)"
      ],
      "metadata": {
        "colab": {
          "base_uri": "https://localhost:8080/"
        },
        "id": "DSH0iRErxfO3",
        "outputId": "bb721fde-0f9e-463a-f532-f6fd4d565c16"
      },
      "execution_count": 7,
      "outputs": [
        {
          "output_type": "stream",
          "name": "stdout",
          "text": [
            "1\n",
            "2\n",
            "[3, 4, 5]\n"
          ]
        }
      ]
    },
    {
      "cell_type": "code",
      "source": [
        "fruits = (\"apple\", \"mango\", \"papaya\", \"pineapple\", \"cherry\")\n",
        "\n",
        "(green, *tropic, red) = fruits\n",
        "\n",
        "print(green)\n",
        "print(tropic)\n",
        "print(red)"
      ],
      "metadata": {
        "colab": {
          "base_uri": "https://localhost:8080/"
        },
        "id": "C9WfSOasxkxP",
        "outputId": "13634d08-dd0a-467e-8319-80c57ac86cfb"
      },
      "execution_count": 8,
      "outputs": [
        {
          "output_type": "stream",
          "name": "stdout",
          "text": [
            "apple\n",
            "['mango', 'papaya', 'pineapple']\n",
            "cherry\n"
          ]
        }
      ]
    },
    {
      "cell_type": "code",
      "source": [
        "fruits = [\"apple\", \"mango\", \"papaya\", \"pineapple\", \"cherry\"]\n",
        "\n",
        "(green, *tropic, red) = fruits\n",
        "\n",
        "print(green)\n",
        "print(tropic)\n",
        "print(red)"
      ],
      "metadata": {
        "colab": {
          "base_uri": "https://localhost:8080/"
        },
        "id": "z1zy2EU0xyP_",
        "outputId": "4871aa03-4bd7-4f0d-c065-161fda4521cf"
      },
      "execution_count": 9,
      "outputs": [
        {
          "output_type": "stream",
          "name": "stdout",
          "text": [
            "apple\n",
            "['mango', 'papaya', 'pineapple']\n",
            "cherry\n"
          ]
        }
      ]
    },
    {
      "cell_type": "markdown",
      "source": [
        "## Add Tuple"
      ],
      "metadata": {
        "id": "RasD12rRy3NX"
      }
    },
    {
      "cell_type": "code",
      "source": [
        "tuple1 = (\"a\", \"b\" , \"c\")\n",
        "tuple2 = (1, 2, 3)\n",
        "\n",
        "tuple3 = tuple1 + tuple2\n",
        "print(tuple3)"
      ],
      "metadata": {
        "colab": {
          "base_uri": "https://localhost:8080/"
        },
        "id": "BXVu7Komy6_r",
        "outputId": "8acd5bcc-d2fc-40ea-f1d6-d001322d2f10"
      },
      "execution_count": 10,
      "outputs": [
        {
          "output_type": "stream",
          "name": "stdout",
          "text": [
            "('a', 'b', 'c', 1, 2, 3)\n"
          ]
        }
      ]
    },
    {
      "cell_type": "markdown",
      "source": [
        "## Multiply Tuple"
      ],
      "metadata": {
        "id": "F3_-p_a5y9wu"
      }
    },
    {
      "cell_type": "code",
      "source": [
        "## same as list\n",
        "fruits = (\"apple\", \"banana\", \"cherry\")\n",
        "mytuple = fruits * 2\n",
        "\n",
        "print(mytuple)"
      ],
      "metadata": {
        "colab": {
          "base_uri": "https://localhost:8080/"
        },
        "id": "lCCBJeTYy87n",
        "outputId": "d9b484c2-cec1-40ba-8367-a68ec0a5c9a3"
      },
      "execution_count": 13,
      "outputs": [
        {
          "output_type": "stream",
          "name": "stdout",
          "text": [
            "('apple', 'banana', 'cherry', 'apple', 'banana', 'cherry')\n"
          ]
        }
      ]
    },
    {
      "cell_type": "code",
      "source": [],
      "metadata": {
        "id": "FyPULt5wzFHz"
      },
      "execution_count": null,
      "outputs": []
    }
  ]
}