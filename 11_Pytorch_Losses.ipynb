{
 "cells": [
  {
   "cell_type": "markdown",
   "metadata": {},
   "source": [
    "Your neural networks can do a lot of different tasks. Whether it’s classifying data, like grouping pictures of animals into cats and dogs, regression tasks, like predicting monthly revenues, or anything else.  Every task has a different output and needs a different type of loss function.\n",
    "\n",
    "The way you configure your loss functions can make or break the performance of your algorithm. By correctly configuring the loss function, you can make sure your model will work how you want it to.\n",
    "\n",
    "Luckily for us, there are loss functions we can use to make the most of machine learning tasks. \n",
    "\n",
    "In this article, we’ll talk about popular loss functions in PyTorch, and about building custom loss functions. Once you’re done reading, you should know which one to choose for your project. \n",
    "\n",
    "\n",
    "#### What are the loss functions?\n",
    "\n",
    "Before we jump into PyTorch specifics, let’s refresh our memory of what loss functions are. \n",
    "\n",
    "Loss functions are used to gauge the error between the prediction output and the provided target value. A loss function tells us how far the algorithm model is from realizing the expected outcome. The word ‘loss’ means the penalty that the model gets for failing to yield the desired results.\n",
    "\n",
    "For example, a loss function (let’s call it J) can take the following two parameters:\n",
    "\n",
    "- Predicted output (y_pred)\n",
    "- Target value (y)\n",
    "\n",
    "This function will determine your model’s performance by comparing its predicted output with the expected output. If the deviation between y_pred and y is very large, the loss value will be very high.\n",
    "\n",
    "If the deviation is small or the values are nearly identical, it’ll output a very low loss value. Therefore, you need to use a loss function that can penalize a model properly when it is training on the provided dataset.\n",
    "\n",
    "\n",
    "#### Which loss functions are available in PyTorch?\n",
    "\n",
    "Broadly speaking, loss functions in PyTorch are divided into two main categories: regression losses and classification losses. \n",
    "\n",
    "**Regression loss** functions are used when the model is predicting a continuous value, like the age of a person. \n",
    "\n",
    "**Classification loss** functions are used when the model is predicting a discrete value, such as whether an email is spam or not. \n",
    "\n",
    "**Ranking loss** functions are used when the model is predicting the relative distances between inputs, such as ranking products according to their relevance on an e-commerce search page. \n",
    "\n",
    "Now we’ll explore the different types of loss functions in PyTorch, and how to use them:\n",
    "\n",
    "- Mean Absolute Error Loss\n",
    "- Mean Squared Error Loss\n",
    "- Negative Log-Likelihood Loss\n",
    "- Cross-Entropy Loss\n",
    "- Hinge Embedding Loss\n",
    "- Margin Ranking Loss\n",
    "- Triplet Margin Loss\n",
    "- Kullback-Leibler divergence"
   ]
  },
  {
   "cell_type": "code",
   "execution_count": 2,
   "metadata": {},
   "outputs": [],
   "source": [
    "import torch \n",
    "import torch.nn as nn"
   ]
  },
  {
   "cell_type": "markdown",
   "metadata": {},
   "source": [
    "## Mean Absolute Error (L1 Loss Function)\n",
    "\n",
    "\n",
    "The Mean Absolute Error (MAE), also called L1 Loss, computes the average of the sum of absolute differences between actual values and predicted values.\n",
    "\n",
    "It checks the size of errors in a set of predicted values, without caring about their positive or negative direction. If the absolute values of the errors are not used, then negative values could cancel out the positive values. \n",
    "\n",
    "The Pytorch L1 Loss is expressed as:\n",
    "\n",
    "$loss(x,y) = |x - y|$\n",
    "\n",
    "x represents the actual value and y the predicted value.\n",
    "\n",
    "\n",
    "##### When could it be used?\n",
    "\n",
    "Regression problems, especially when the distribution of the target variable has outliers, such as small or big values that are a great distance from the mean value. \n",
    "It is considered to be more robust to outliers."
   ]
  },
  {
   "cell_type": "code",
   "execution_count": 3,
   "metadata": {},
   "outputs": [
    {
     "name": "stdout",
     "output_type": "stream",
     "text": [
      "input:  tensor([[-1.8485,  0.0481,  0.8985,  0.3606, -1.3005],\n",
      "        [-1.3975, -1.6885,  0.6355,  1.5876, -0.1671],\n",
      "        [-0.5936,  0.8882,  1.4822, -0.0674,  0.9034]], requires_grad=True)\n",
      "target:  tensor([[ 0.4150,  0.9751,  0.3470,  0.7251,  0.9894],\n",
      "        [-0.9573, -1.3696, -1.7255,  0.8905, -0.7378],\n",
      "        [ 0.8162,  1.3785,  1.7483,  1.6742, -0.4076]])\n",
      "output:  tensor(1.0669, grad_fn=<L1LossBackward0>)\n"
     ]
    }
   ],
   "source": [
    "import torch\n",
    "import torch.nn as nn\n",
    "\n",
    "input = torch.randn(3, 5, requires_grad=True)\n",
    "target = torch.randn(3, 5)\n",
    "\n",
    "mae_loss = nn.L1Loss()\n",
    "output = mae_loss(input, target)\n",
    "output.backward()\n",
    "\n",
    "print('input: ', input)\n",
    "print('target: ', target)\n",
    "print('output: ', output)"
   ]
  },
  {
   "cell_type": "markdown",
   "metadata": {},
   "source": [
    "## Mean Squared Error Loss Function\n",
    "\n",
    "\n",
    "The Mean Squared Error (MSE), also called L2 Loss, computes the average of the squared differences between actual values and predicted values.\n",
    "\n",
    "Pytorch MSE Loss always outputs a positive result, regardless of the sign of actual and predicted values. To enhance the accuracy of the model, you should try to reduce the L2 Loss—a perfect value is 0.0. \n",
    "\n",
    "The squaring implies that larger mistakes produce even larger errors than smaller ones. If the classifier is off by 100, the error is 10,000. If it’s off by 0.1, the error is 0.01. This punishes the model for making big mistakes and encourages small mistakes. \n",
    "\n",
    "The Pytorch L2 Loss is expressed as:\n",
    "\n",
    "$loss(x,y) = (x-y)^2$\n",
    "\n",
    "\n",
    "##### When could it be used?\n",
    "\n",
    "    MSE is the default loss function for most Pytorch regression problems."
   ]
  },
  {
   "cell_type": "code",
   "execution_count": 5,
   "metadata": {},
   "outputs": [
    {
     "name": "stdout",
     "output_type": "stream",
     "text": [
      "input:  tensor([[-0.4729,  0.2000,  0.0287,  0.3893, -1.2522],\n",
      "        [-1.5119,  0.4412,  0.4182, -0.4514, -0.7265],\n",
      "        [ 0.5386,  0.9974,  1.5165,  0.4870,  0.0487]], requires_grad=True)\n",
      "target:  tensor([[-0.7414,  0.0437,  0.5963,  0.9322,  0.2677],\n",
      "        [-0.1419, -0.6353, -0.2111, -0.0947,  0.0283],\n",
      "        [-0.0858, -0.1638,  1.4751, -0.5926,  0.2726]])\n",
      "output:  tensor(0.6738, grad_fn=<MseLossBackward0>)\n"
     ]
    }
   ],
   "source": [
    "import torch\n",
    "import torch.nn as nn\n",
    "\n",
    "input = torch.randn(3, 5, requires_grad=True)\n",
    "target = torch.randn(3, 5)\n",
    "mse_loss = nn.MSELoss()\n",
    "output = mse_loss(input, target)\n",
    "output.backward()\n",
    "\n",
    "print('input: ', input)\n",
    "print('target: ', target)\n",
    "print('output: ', output)"
   ]
  },
  {
   "cell_type": "markdown",
   "metadata": {},
   "source": [
    "## Negative Log-Likelihood Loss Function\n",
    "\n",
    "The Negative Log-Likelihood Loss function (NLL) is applied only on models with the softmax function as an output activation layer. Softmax refers to an activation function that calculates the normalized exponential function of every unit in the layer.\n",
    "\n",
    "The Softmax function is expressed as:\n",
    "\n",
    "$S(f_{yi}) = e^{(f_{yi})}/\\sum_j e^{f_j}$\n",
    "\n",
    "\n",
    "The function takes an input vector of size N, and then modifies the values such that every one of them falls between 0 and 1. Furthermore, it normalizes the output such that the sum of the N values of the vector equals to 1.\n",
    "\n",
    "NLL uses a negative connotation since the probabilities (or likelihoods) vary between zero and one, and the logarithms of values in this range are negative. In the end, the loss value becomes positive.\n",
    "\n",
    "In NLL, minimizing the loss function assists us get a better output. The negative log likelihood is retrieved from approximating the maximum likelihood estimation (MLE). This means that we try to maximize the model’s log likelihood, and as a result, minimize the NLL.  \n",
    "\n",
    "In NLL, the model is punished for making the correct prediction with smaller probabilities and encouraged for making the prediction with higher probabilities. The logarithm does the punishment. \n",
    "\n",
    "NLL does not only care about the prediction being correct but also about the model being certain about the prediction with a high score. \n",
    "\n",
    "The Pytorch NLL Loss is expressed as:\n",
    "\n",
    "$l(x,y) = L = {\\{l_1,l_2...l_N\\}}^T$\n",
    "\n",
    "$l_n = -w_n x_{n,y_n}$\n",
    "\n",
    "where x is the input, y is the target, w is the weight, and N is the batch size.\n",
    "\n",
    "\n",
    "***When could it be used?***\n",
    "\n",
    "Multi-class classification problems\n"
   ]
  },
  {
   "cell_type": "code",
   "execution_count": 7,
   "metadata": {},
   "outputs": [
    {
     "name": "stdout",
     "output_type": "stream",
     "text": [
      "input:  tensor([[ 1.3845, -2.1731, -0.3749,  0.8040,  0.8980],\n",
      "        [ 2.7386, -0.7563,  1.0558,  0.5877,  1.8012],\n",
      "        [-1.5695,  0.1985,  0.0506, -0.7154,  0.8009]], requires_grad=True)\n",
      "target:  tensor([1, 0, 4])\n",
      "output:  tensor(1.9381, grad_fn=<NllLossBackward0>)\n"
     ]
    }
   ],
   "source": [
    "import torch\n",
    "import torch.nn as nn\n",
    "\n",
    "# size of input (N x C) is = 3 x 5\n",
    "input = torch.randn(3, 5, requires_grad=True)\n",
    "# every element in target should have 0 <= value < C\n",
    "target = torch.tensor([1, 0, 4])\n",
    "\n",
    "m = nn.LogSoftmax(dim=1)\n",
    "nll_loss = nn.NLLLoss()\n",
    "output = nll_loss(m(input), target)\n",
    "output.backward()\n",
    "\n",
    "print('input: ', input)\n",
    "print('target: ', target)\n",
    "print('output: ', output)"
   ]
  },
  {
   "cell_type": "markdown",
   "metadata": {},
   "source": [
    "## Cross-Entropy Loss Function\n",
    "\n",
    "This loss function computes the difference between two probability distributions for a provided set of occurrences or random variables.\n",
    "\n",
    "It is used to work out a score that summarizes the average difference between the predicted values and the actual values. To enhance the accuracy of the model, you should try to minimize the score—the cross-entropy score is between 0 and 1, and a perfect value is 0.\n",
    "\n",
    "Other loss functions, like the squared loss, punish incorrect predictions. Cross-Entropy penalizes greatly for being very confident and wrong.\n",
    "\n",
    "Unlike the Negative Log-Likelihood Loss, which doesn’t punish based on prediction confidence, Cross-Entropy punishes incorrect but confident predictions, as well as correct but less confident predictions. \n",
    "\n",
    "The Cross-Entropy function has a wide range of variants, of which the most common type is the Binary Cross-Entropy (BCE). The BCE Loss is mainly used for binary classification models; that is, models having only 2 classes. \n",
    "\n",
    "The Pytorch Cross-Entropy Loss is expressed as:\n",
    "\n",
    "$l(x,y) = L = {\\{l_1,l_2...l_N\\}}^T$\n",
    "\n",
    "\n",
    "$l_n = - w_{yn} log \\frac{exp(x_{n,yn})}{\\sum_{c=1}^{C} exp(x_{n,c})} $\n",
    "\n",
    "\n",
    "Where x is the input, y is the target, w is the weight, C is the number of classes, and N spans the mini-batch dimension.\n",
    "\n",
    "***When could it be used?***\n",
    "\n",
    "Binary classification tasks, for which it’s the default loss function in Pytorch.\n",
    "Creating confident models—the prediction will be accurate and with a higher probability."
   ]
  },
  {
   "cell_type": "code",
   "execution_count": 8,
   "metadata": {},
   "outputs": [
    {
     "name": "stdout",
     "output_type": "stream",
     "text": [
      "input:  tensor([[ 0.5299,  0.3501,  0.2417, -0.3127, -0.0031],\n",
      "        [-1.8654,  1.6156,  0.0404,  1.4345,  0.5969],\n",
      "        [-0.7105,  1.3481,  0.6364,  0.8249, -0.7732]], requires_grad=True)\n",
      "target:  tensor([0, 3, 2])\n",
      "output:  tensor(1.3033, grad_fn=<NllLossBackward0>)\n"
     ]
    }
   ],
   "source": [
    "import torch\n",
    "import torch.nn as nn\n",
    "\n",
    "input = torch.randn(3, 5, requires_grad=True)\n",
    "target = torch.empty(3, dtype=torch.long).random_(5)\n",
    "\n",
    "cross_entropy_loss = nn.CrossEntropyLoss()\n",
    "output = cross_entropy_loss(input, target)\n",
    "output.backward()\n",
    "\n",
    "print('input: ', input)\n",
    "print('target: ', target)\n",
    "print('output: ', output)"
   ]
  },
  {
   "cell_type": "markdown",
   "metadata": {},
   "source": [
    "## Hinge Embedding Loss Function\n",
    "\n",
    "\n",
    "The Hinge Embedding Loss is used for computing the loss when there is an input tensor, x, and a labels tensor, y. Target values are between {1, -1}, which makes it good for binary classification tasks.\n",
    "\n",
    "With the Hinge Loss function, you can give more error whenever a difference exists in the sign between the actual class values and the predicted class values. This motivates examples to have the right sign. \n",
    "\n",
    "The Hinge Embedding Loss is expressed as:\n",
    "\n",
    "\n",
    "$$\n",
    "loss(x,y) =\n",
    "\\begin{cases}\n",
    "x & \\quad \\text{if $y == 1$}\\\\ \n",
    "max\\{0, \\Delta- x\\} & \\quad \\text{if $y == -1$}\n",
    "\\end{cases}\n",
    "$$\n",
    "\n",
    "***When could it be used?***\n",
    "\n",
    "Classification problems, especially when determining if two inputs are dissimilar or similar. \n",
    "Learning nonlinear embeddings or semi-supervised learning tasks."
   ]
  },
  {
   "cell_type": "code",
   "execution_count": 9,
   "metadata": {},
   "outputs": [
    {
     "name": "stdout",
     "output_type": "stream",
     "text": [
      "input:  tensor([[ 0.8142, -0.7161,  0.1112, -1.6693,  0.1732],\n",
      "        [-1.7043,  1.7137,  0.5440,  0.2403, -2.6408],\n",
      "        [-0.7400,  0.5825,  0.5071, -1.0051,  1.0679]], requires_grad=True)\n",
      "target:  tensor([[ 0.3659, -1.1026, -1.5713, -0.0452,  1.2708],\n",
      "        [-2.1043, -1.1094,  0.2275, -0.2520, -0.1738],\n",
      "        [ 0.3439,  1.5356,  2.2445,  0.0444, -0.3367]])\n",
      "output:  tensor(1.0521, grad_fn=<MeanBackward0>)\n"
     ]
    }
   ],
   "source": [
    "import torch\n",
    "import torch.nn as nn\n",
    "\n",
    "input = torch.randn(3, 5, requires_grad=True)\n",
    "target = torch.randn(3, 5)\n",
    "\n",
    "hinge_loss = nn.HingeEmbeddingLoss()\n",
    "output = hinge_loss(input, target)\n",
    "output.backward()\n",
    "\n",
    "print('input: ', input)\n",
    "print('target: ', target)\n",
    "print('output: ', output)"
   ]
  },
  {
   "cell_type": "markdown",
   "metadata": {},
   "source": [
    "## Margin Ranking Loss Function\n",
    "\n",
    "The Margin Ranking Loss computes a criterion to predict the relative distances between inputs. This is different from other loss functions, like MSE or Cross-Entropy, which learn to predict directly from a given set of inputs.\n",
    "\n",
    "With the Margin Ranking Loss, you can calculate the loss provided there are inputs x1, x2, as well as a label tensor, y (containing 1 or -1). \n",
    "\n",
    "When y == 1, the first input will be assumed as a larger value. It’ll be ranked higher than the second input. If y == -1, the second input will be ranked higher.\n",
    "\n",
    "The Pytorch Margin Ranking Loss is expressed as:\n",
    "\n",
    "\n",
    "$loss(x,y) = max(0, -y * (x1 - x2) + margin)$ \n",
    "\n",
    "\n",
    "***When could it be used?***\n",
    "\n",
    "    Ranking problems"
   ]
  },
  {
   "cell_type": "code",
   "execution_count": 10,
   "metadata": {},
   "outputs": [
    {
     "name": "stdout",
     "output_type": "stream",
     "text": [
      "input one:  tensor([1.1316, 0.5813, 0.4068], requires_grad=True)\n",
      "input two:  tensor([-0.3382,  0.3453, -0.4112], requires_grad=True)\n",
      "target:  tensor([-1.,  1.,  1.])\n",
      "output:  tensor(0.4899, grad_fn=<MeanBackward0>)\n"
     ]
    }
   ],
   "source": [
    "import torch\n",
    "import torch.nn as nn\n",
    "\n",
    "input_one = torch.randn(3, requires_grad=True)\n",
    "input_two = torch.randn(3, requires_grad=True)\n",
    "target = torch.randn(3).sign()\n",
    "\n",
    "ranking_loss = nn.MarginRankingLoss()\n",
    "output = ranking_loss(input_one, input_two, target)\n",
    "output.backward()\n",
    "\n",
    "print('input one: ', input_one)\n",
    "print('input two: ', input_two)\n",
    "print('target: ', target)\n",
    "print('output: ', output)"
   ]
  },
  {
   "cell_type": "markdown",
   "metadata": {},
   "source": [
    "## Triplet Margin Loss Function\n",
    "\n",
    "The Triplet Margin Loss computes a criterion for measuring the triplet loss in models. With this loss function, you can calculate the loss provided there are input tensors, x1, x2, x3, as well as margin with a value greater than zero. \n",
    "\n",
    "A triplet consists of a (anchor), p (positive examples), and n (negative examples). \n",
    "\n",
    "The Pytorch Triplet Margin Loss is expressed as:\n",
    "\n",
    "$L(a,p,n) = max\\{d(a_i,p_i) - d(a_i, n_i) + margin,0\\}$ \n",
    "\n",
    "***When could it be used?***\n",
    "\n",
    "Determining the relative similarity existing between samples. \n",
    "It is used in content-based retrieval problems "
   ]
  },
  {
   "cell_type": "code",
   "execution_count": 11,
   "metadata": {},
   "outputs": [
    {
     "name": "stdout",
     "output_type": "stream",
     "text": [
      "anchor:  tensor([[-2.3417,  0.7864, -0.1744,  ..., -1.2418,  0.8298,  0.6693],\n",
      "        [ 0.5556, -0.2519, -1.4526,  ..., -3.2336, -0.3161,  0.6840],\n",
      "        [ 1.2883, -0.0535, -0.0983,  ..., -0.0648, -0.9241,  0.1941],\n",
      "        ...,\n",
      "        [ 1.1237,  0.2899,  1.4060,  ...,  1.1747, -1.7719, -0.3330],\n",
      "        [ 1.2358, -0.5664, -0.7245,  ..., -1.6681,  1.5873, -0.8510],\n",
      "        [ 1.9042, -1.5804,  0.6479,  ..., -0.5288,  0.8851, -1.0115]],\n",
      "       requires_grad=True)\n",
      "positive:  tensor([[ 0.5226, -0.8485,  0.1743,  ...,  2.0906, -0.3744, -1.7389],\n",
      "        [-1.1446,  1.0502,  0.0417,  ...,  0.3672,  0.1142,  0.0462],\n",
      "        [-2.1968, -0.6698, -1.0753,  ..., -1.5460, -1.4789,  1.5452],\n",
      "        ...,\n",
      "        [ 1.4527,  0.0419,  0.1706,  ...,  0.5311, -1.6273, -1.0668],\n",
      "        [-0.2007,  0.8788, -0.8988,  ..., -0.5047,  0.1205,  1.3584],\n",
      "        [ 0.6429, -1.5937, -0.8787,  ..., -0.1875,  0.5624, -0.5508]],\n",
      "       requires_grad=True)\n",
      "negative:  tensor([[ 0.1894, -2.2364,  0.2024,  ..., -0.0912,  0.0531, -0.0108],\n",
      "        [ 2.0129, -2.1032,  0.2841,  ...,  0.3229, -0.5583,  0.6657],\n",
      "        [-1.2074, -1.9003, -0.2528,  ...,  0.4879,  0.8709,  0.3619],\n",
      "        ...,\n",
      "        [ 1.0099, -0.3488,  0.7824,  ...,  1.0360,  0.3655,  0.0248],\n",
      "        [ 0.1603,  0.1412,  1.3222,  ...,  0.6581, -1.1899,  0.1786],\n",
      "        [ 0.2904, -0.0093, -1.1744,  ..., -0.7521,  1.0665,  0.8691]],\n",
      "       requires_grad=True)\n",
      "output:  tensor(1.2268, grad_fn=<MeanBackward0>)\n"
     ]
    }
   ],
   "source": [
    "import torch\n",
    "import torch.nn as nn\n",
    "anchor = torch.randn(100, 128, requires_grad=True)\n",
    "positive = torch.randn(100, 128, requires_grad=True)\n",
    "negative = torch.randn(100, 128, requires_grad=True)\n",
    "\n",
    "triplet_margin_loss = nn.TripletMarginLoss(margin=1.0, p=2)\n",
    "output = triplet_margin_loss(anchor, positive, negative)\n",
    "output.backward()\n",
    "\n",
    "print('anchor: ', anchor)\n",
    "print('positive: ', positive)\n",
    "print('negative: ', negative)\n",
    "print('output: ', output)"
   ]
  },
  {
   "cell_type": "markdown",
   "metadata": {},
   "source": [
    "\n",
    "## Kullback-Leibler Divergence Loss Function\n",
    "\n",
    "\n",
    "The Kullback-Leibler Divergence, shortened to KL Divergence, computes the difference between two probability distributions.\n",
    "\n",
    "With this loss function, you can compute the amount of lost information (expressed in bits) in case the predicted probability distribution is utilized to estimate the expected target probability distribution.\n",
    "\n",
    "Its output tells you the proximity of two probability distributions. If the predicted probability distribution is very far from the true probability distribution, it’ll lead to a big loss. If the value of KL Divergence is zero, it implies that the probability distributions are the same.\n",
    "\n",
    "KL Divergence behaves just like Cross-Entropy Loss, with a key difference in how they handle predicted and actual probability. Cross-Entropy punishes the model according to the confidence of predictions, and KL Divergence doesn’t. KL Divergence only assesses how the probability distribution prediction is different from the distribution of ground truth.\n",
    "\n",
    "The KL Divergence Loss is expressed as:\n",
    "\n",
    "\n",
    "$loss(x,y) = y \\cdot (log y - x)$\n",
    "\n",
    "\n",
    "x represents the true label’s probability and y represents the predicted label’s probability. \n",
    "\n",
    "***When could it be used?***\n",
    "\n",
    "- Approximating complex functions\n",
    "- Multi-class classification tasks\n",
    "- If you want to make sure that the distribution of predictions is similar to that of training data"
   ]
  },
  {
   "cell_type": "code",
   "execution_count": 12,
   "metadata": {},
   "outputs": [
    {
     "name": "stdout",
     "output_type": "stream",
     "text": [
      "input:  tensor([[-1.6902, -0.4670, -0.5579],\n",
      "        [-2.3646, -0.9377,  0.7044]], requires_grad=True)\n",
      "target:  tensor([[-0.5334, -1.9392,  0.1040],\n",
      "        [ 2.1693,  0.8031, -0.6084]])\n",
      "output:  tensor(3.6046, grad_fn=<DivBackward0>)\n"
     ]
    }
   ],
   "source": [
    "import torch\n",
    "import torch.nn as nn\n",
    "\n",
    "input = torch.randn(2, 3, requires_grad=True)\n",
    "target = torch.randn(2, 3)\n",
    "\n",
    "kl_loss = nn.KLDivLoss(reduction = 'batchmean')\n",
    "output = kl_loss(input, target)\n",
    "output.backward()\n",
    "\n",
    "print('input: ', input)\n",
    "print('target: ', target)\n",
    "print('output: ', output)"
   ]
  },
  {
   "cell_type": "markdown",
   "metadata": {},
   "source": [
    "## How to create a custom loss function in PyTorch?\n",
    "\n",
    "PyTorch lets you create your own custom loss functions to implement in your projects.\n",
    "\n",
    "Here’s how you can create your own simple Cross-Entropy Loss function."
   ]
  },
  {
   "cell_type": "code",
   "execution_count": 14,
   "metadata": {},
   "outputs": [],
   "source": [
    "def myCustomLoss(my_outputs, my_labels):\n",
    "    #specifying the batch size\n",
    "    my_batch_size = my_outputs.size()[0]\n",
    "    #calculating the log of softmax values           \n",
    "    my_outputs = F.log_softmax(my_outputs, dim=1)\n",
    "    #selecting the values that correspond to labels\n",
    "    my_outputs = my_outputs[range(my_batch_size), my_labels]\n",
    "    #returning the results\n",
    "    return -torch.sum(my_outputs)/number_examples"
   ]
  }
 ],
 "metadata": {
  "kernelspec": {
   "display_name": "base",
   "language": "python",
   "name": "python3"
  },
  "language_info": {
   "codemirror_mode": {
    "name": "ipython",
    "version": 3
   },
   "file_extension": ".py",
   "mimetype": "text/x-python",
   "name": "python",
   "nbconvert_exporter": "python",
   "pygments_lexer": "ipython3",
   "version": "3.10.9"
  }
 },
 "nbformat": 4,
 "nbformat_minor": 2
}
