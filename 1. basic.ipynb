{
 "cells": [
  {
   "cell_type": "code",
   "execution_count": 1,
   "metadata": {},
   "outputs": [],
   "source": [
    "import torch\n",
    "import numpy as np"
   ]
  },
  {
   "cell_type": "markdown",
   "metadata": {},
   "source": [
    "    Everything is in pytorch is a tensor. \n",
    "    Tensor are similar to numpy objects but it can run on GPU also.\n",
    "    \n",
    "    \n",
    "## Ways to create tensor\n",
    "    - from python objects\n",
    "    - from numpy objects\n",
    "    - using inbuilt functions"
   ]
  },
  {
   "cell_type": "markdown",
   "metadata": {},
   "source": [
    "### using python objects"
   ]
  },
  {
   "cell_type": "code",
   "execution_count": 2,
   "metadata": {},
   "outputs": [
    {
     "name": "stdout",
     "output_type": "stream",
     "text": [
      "tensor([1, 2, 3])\n",
      "<class 'torch.Tensor'>\n"
     ]
    }
   ],
   "source": [
    "array_list = [1,2,3]\n",
    "a = torch.tensor(array_list)\n",
    "print(a)\n",
    "print(type(a))"
   ]
  },
  {
   "cell_type": "markdown",
   "metadata": {},
   "source": [
    "## using numpy objects"
   ]
  },
  {
   "cell_type": "code",
   "execution_count": 3,
   "metadata": {},
   "outputs": [
    {
     "name": "stdout",
     "output_type": "stream",
     "text": [
      "[[1 2 3]\n",
      " [4 5 6]]\n",
      "<class 'torch.Tensor'>\n",
      "tensor([[1, 2, 3],\n",
      "        [4, 5, 6]])\n"
     ]
    }
   ],
   "source": [
    "numpy_array= np.array([[1,2,3],[4,5,6]])\n",
    "print(numpy_array)\n",
    "\n",
    "tensor_array = torch.from_numpy(numpy_array)\n",
    "print(type(tensor_array))\n",
    "print(tensor_array)"
   ]
  },
  {
   "cell_type": "markdown",
   "metadata": {},
   "source": [
    "## using inbuilt functions"
   ]
  },
  {
   "cell_type": "code",
   "execution_count": 4,
   "metadata": {},
   "outputs": [
    {
     "data": {
      "text/plain": [
       "tensor([[1., 1.],\n",
       "        [1., 1.],\n",
       "        [1., 1.]])"
      ]
     },
     "execution_count": 4,
     "metadata": {},
     "output_type": "execute_result"
    }
   ],
   "source": [
    "torch.ones(3,2)"
   ]
  },
  {
   "cell_type": "code",
   "execution_count": 5,
   "metadata": {},
   "outputs": [
    {
     "data": {
      "text/plain": [
       "tensor([[0., 0.],\n",
       "        [0., 0.],\n",
       "        [0., 0.]])"
      ]
     },
     "execution_count": 5,
     "metadata": {},
     "output_type": "execute_result"
    }
   ],
   "source": [
    "torch.zeros(3,2)"
   ]
  },
  {
   "cell_type": "code",
   "execution_count": 6,
   "metadata": {},
   "outputs": [
    {
     "data": {
      "text/plain": [
       "tensor([[5, 5],\n",
       "        [5, 5],\n",
       "        [5, 5]])"
      ]
     },
     "execution_count": 6,
     "metadata": {},
     "output_type": "execute_result"
    }
   ],
   "source": [
    "torch.full((3,2),5)"
   ]
  },
  {
   "cell_type": "code",
   "execution_count": 7,
   "metadata": {},
   "outputs": [
    {
     "data": {
      "text/plain": [
       "tensor([[ 1.0275,  0.2820],\n",
       "        [-0.2277, -1.7773],\n",
       "        [ 0.5538,  1.5500]])"
      ]
     },
     "execution_count": 7,
     "metadata": {},
     "output_type": "execute_result"
    }
   ],
   "source": [
    "torch.randn(3,2)"
   ]
  },
  {
   "cell_type": "markdown",
   "metadata": {},
   "source": [
    "## Tensor Operation\n",
    "\n",
    "    Below are the ways to add tensor in pytorch.similary you can do for other tensor also.\n",
    "    \n",
    "        - torch.add(a,b)\n",
    "        - a.add_(b) : underscore shows the inplace update in pytorch. final value will be in a\n",
    "        - a + b"
   ]
  },
  {
   "cell_type": "code",
   "execution_count": 8,
   "metadata": {},
   "outputs": [
    {
     "name": "stdout",
     "output_type": "stream",
     "text": [
      "Add :  tensor([[ 2.3413,  1.3995],\n",
      "        [ 0.9806, -0.7820],\n",
      "        [-0.5862,  0.7202]])\n",
      "Sub :  tensor([[-1.0038,  1.0069],\n",
      "        [-1.1790, -0.9375],\n",
      "        [ 0.7772,  0.3816]])\n",
      "Mul :  tensor([[ 1.1185,  0.2362],\n",
      "        [-0.1071, -0.0669],\n",
      "        [-0.0651,  0.0933]])\n",
      "Div :  tensor([[  0.3998,   6.1282],\n",
      "        [ -0.0919, -11.0541],\n",
      "        [ -0.1401,   3.2544]])\n"
     ]
    }
   ],
   "source": [
    "a = torch.randn(3,2)\n",
    "b = torch.randn(3,2)\n",
    "\n",
    "print(\"Add : \", a+b)\n",
    "print(\"Sub : \", a-b)\n",
    "print(\"Mul : \",a*b)\n",
    "print(\"Div : \",a/b)"
   ]
  },
  {
   "cell_type": "code",
   "execution_count": 9,
   "metadata": {},
   "outputs": [
    {
     "name": "stdout",
     "output_type": "stream",
     "text": [
      "tensor([[-1.4572, -2.1233, -1.6327],\n",
      "        [ 0.6659,  4.5691,  4.0364],\n",
      "        [-0.7165, -3.6468, -3.1825]])\n"
     ]
    }
   ],
   "source": [
    "## matrix multiplication \n",
    "a = torch.randn(3,2)\n",
    "b = torch.randn(2,3)\n",
    "print(torch.matmul(a,b))"
   ]
  },
  {
   "cell_type": "markdown",
   "metadata": {},
   "source": [
    "## Properties of tensor\n",
    "    - shape or size : length of tensor\n",
    "    - view : used to reshape the tensor\n",
    "    - dtype : give the info about data type\n",
    "    - type : will tell you about is it tensor ?"
   ]
  },
  {
   "cell_type": "code",
   "execution_count": 10,
   "metadata": {},
   "outputs": [
    {
     "name": "stdout",
     "output_type": "stream",
     "text": [
      "Size : torch.Size([3, 2]), shape : torch.Size([3, 2])\n",
      "type : <class 'torch.Tensor'>\n",
      "dtype : torch.float32\n"
     ]
    }
   ],
   "source": [
    "a = torch.randn(3,2)\n",
    "print(f\"Size : {a.size()}, shape : {a.shape}\")\n",
    "print(f\"type : {type(a)}\")\n",
    "print(f\"dtype : {a.dtype}\")"
   ]
  },
  {
   "cell_type": "code",
   "execution_count": 11,
   "metadata": {},
   "outputs": [
    {
     "name": "stdout",
     "output_type": "stream",
     "text": [
      "torch.Size([8, 2])\n",
      "torch.Size([4, 4])\n",
      "tensor([[ 1.1907,  0.7856, -0.9121, -1.3902],\n",
      "        [-0.5715,  0.0470, -0.9282, -1.2781],\n",
      "        [ 0.0884, -0.7333,  0.0650, -0.9102],\n",
      "        [-0.2615, -0.1394,  0.6720, -0.9572]])\n"
     ]
    }
   ],
   "source": [
    "a = torch.randn(8,2)\n",
    "print(a.shape)\n",
    "a = a.view(4,4)\n",
    "print(a.shape)\n",
    "print(a)"
   ]
  },
  {
   "cell_type": "markdown",
   "metadata": {},
   "source": [
    "## Type casting"
   ]
  },
  {
   "cell_type": "code",
   "execution_count": 12,
   "metadata": {},
   "outputs": [
    {
     "name": "stdout",
     "output_type": "stream",
     "text": [
      "torch.float16\n",
      "torch.float32\n"
     ]
    }
   ],
   "source": [
    "a = torch.tensor([1,2,3], dtype = torch.float16)\n",
    "print(a.dtype)\n",
    "\n",
    "a = a.type(torch.float32)\n",
    "print(a.dtype)"
   ]
  },
  {
   "cell_type": "markdown",
   "metadata": {},
   "source": [
    "## Reduce dimension of tensor"
   ]
  },
  {
   "cell_type": "code",
   "execution_count": 13,
   "metadata": {},
   "outputs": [
    {
     "name": "stdout",
     "output_type": "stream",
     "text": [
      "torch.Size([1, 2, 3])\n",
      "torch.Size([2, 3])\n"
     ]
    }
   ],
   "source": [
    "a = torch.randn(1,2,3)\n",
    "print(a.shape)\n",
    "\n",
    "a = torch.squeeze(a)\n",
    "print(a.shape)"
   ]
  },
  {
   "cell_type": "markdown",
   "metadata": {},
   "source": [
    "## Expand the dimension of tensor"
   ]
  },
  {
   "cell_type": "code",
   "execution_count": 14,
   "metadata": {},
   "outputs": [
    {
     "name": "stdout",
     "output_type": "stream",
     "text": [
      "torch.Size([2, 3])\n",
      "torch.Size([1, 2, 3])\n",
      "torch.Size([2, 1, 3])\n"
     ]
    }
   ],
   "source": [
    "a = torch.randn(2,3)\n",
    "print(a.shape)\n",
    "\n",
    "b = torch.unsqueeze(a,0)\n",
    "print(b.shape)\n",
    "\n",
    "b = torch.unsqueeze(a,1)\n",
    "print(b.shape)"
   ]
  },
  {
   "cell_type": "code",
   "execution_count": null,
   "metadata": {},
   "outputs": [],
   "source": []
  }
 ],
 "metadata": {
  "kernelspec": {
   "display_name": "Python 3",
   "language": "python",
   "name": "python3"
  },
  "language_info": {
   "codemirror_mode": {
    "name": "ipython",
    "version": 3
   },
   "file_extension": ".py",
   "mimetype": "text/x-python",
   "name": "python",
   "nbconvert_exporter": "python",
   "pygments_lexer": "ipython3",
   "version": "3.7.6"
  }
 },
 "nbformat": 4,
 "nbformat_minor": 4
}
