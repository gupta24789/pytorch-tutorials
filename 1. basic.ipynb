{
 "cells": [
  {
   "cell_type": "code",
   "execution_count": 7,
   "metadata": {},
   "outputs": [],
   "source": [
    "import torch\n",
    "import numpy as np"
   ]
  },
  {
   "cell_type": "markdown",
   "metadata": {},
   "source": [
    "    Everything is in pytorch is a tensor. \n",
    "    Tensor are similar to numpy objects but it can run on GPU also.\n",
    "    \n",
    "    \n",
    "## Ways to create tensor\n",
    "    - from python objects\n",
    "    - from numpy objects\n",
    "    - using inbuilt functions"
   ]
  },
  {
   "cell_type": "markdown",
   "metadata": {},
   "source": [
    "### using python objects"
   ]
  },
  {
   "cell_type": "code",
   "execution_count": 6,
   "metadata": {},
   "outputs": [
    {
     "name": "stdout",
     "output_type": "stream",
     "text": [
      "tensor([1, 2, 3])\n",
      "<class 'torch.Tensor'>\n"
     ]
    }
   ],
   "source": [
    "array_list = [1,2,3]\n",
    "a = torch.tensor(array_list)\n",
    "print(a)\n",
    "print(type(a))"
   ]
  },
  {
   "cell_type": "markdown",
   "metadata": {},
   "source": [
    "## using numpy objects"
   ]
  },
  {
   "cell_type": "code",
   "execution_count": 8,
   "metadata": {},
   "outputs": [
    {
     "name": "stdout",
     "output_type": "stream",
     "text": [
      "[[1 2 3]\n",
      " [4 5 6]]\n",
      "<class 'torch.Tensor'>\n",
      "tensor([[1, 2, 3],\n",
      "        [4, 5, 6]])\n"
     ]
    }
   ],
   "source": [
    "numpy_array= np.array([[1,2,3],[4,5,6]])\n",
    "print(numpy_array)\n",
    "\n",
    "tensor_array = torch.from_numpy(numpy_array)\n",
    "print(type(tensor_array))\n",
    "print(tensor_array)"
   ]
  },
  {
   "cell_type": "markdown",
   "metadata": {},
   "source": [
    "## using inbuilt functions"
   ]
  },
  {
   "cell_type": "code",
   "execution_count": 9,
   "metadata": {},
   "outputs": [
    {
     "data": {
      "text/plain": [
       "tensor([[1., 1.],\n",
       "        [1., 1.],\n",
       "        [1., 1.]])"
      ]
     },
     "execution_count": 9,
     "metadata": {},
     "output_type": "execute_result"
    }
   ],
   "source": [
    "torch.ones(3,2)"
   ]
  },
  {
   "cell_type": "code",
   "execution_count": 11,
   "metadata": {},
   "outputs": [
    {
     "data": {
      "text/plain": [
       "tensor([[0., 0.],\n",
       "        [0., 0.],\n",
       "        [0., 0.]])"
      ]
     },
     "execution_count": 11,
     "metadata": {},
     "output_type": "execute_result"
    }
   ],
   "source": [
    "torch.zeros(3,2)"
   ]
  },
  {
   "cell_type": "code",
   "execution_count": 12,
   "metadata": {},
   "outputs": [
    {
     "data": {
      "text/plain": [
       "tensor([[5, 5],\n",
       "        [5, 5],\n",
       "        [5, 5]])"
      ]
     },
     "execution_count": 12,
     "metadata": {},
     "output_type": "execute_result"
    }
   ],
   "source": [
    "torch.full((3,2),5)"
   ]
  },
  {
   "cell_type": "code",
   "execution_count": 13,
   "metadata": {},
   "outputs": [
    {
     "data": {
      "text/plain": [
       "tensor([[-0.5042,  0.6372],\n",
       "        [-0.5248, -1.1229],\n",
       "        [ 1.7663, -0.5275]])"
      ]
     },
     "execution_count": 13,
     "metadata": {},
     "output_type": "execute_result"
    }
   ],
   "source": [
    "torch.randn(3,2)"
   ]
  },
  {
   "cell_type": "markdown",
   "metadata": {},
   "source": [
    "## Tensor Operation\n",
    "\n",
    "    Below are the ways to add tensor in pytorch.similary you can do for other tensor also.\n",
    "    \n",
    "        - torch.add(a,b)\n",
    "        - a.add_(b) : underscore shows the inplace update in pytorch. final value will be in a\n",
    "        - a + b"
   ]
  },
  {
   "cell_type": "code",
   "execution_count": 22,
   "metadata": {},
   "outputs": [
    {
     "name": "stdout",
     "output_type": "stream",
     "text": [
      "Add :  tensor([[ 0.1198,  1.4157],\n",
      "        [ 1.8241, -0.1640],\n",
      "        [ 0.4625,  2.6899]])\n",
      "Sub :  tensor([[-1.4164,  1.6456],\n",
      "        [ 0.5987,  0.6548],\n",
      "        [-1.8249,  0.1684]])\n",
      "Mul :  tensor([[-0.4980, -0.1760],\n",
      "        [ 0.7422, -0.1005],\n",
      "        [-0.7791,  1.8019]])\n",
      "Div :  tensor([[ -0.8441, -13.3149],\n",
      "        [  1.9773,  -0.5994],\n",
      "        [ -0.5956,   1.1335]])\n"
     ]
    }
   ],
   "source": [
    "a = torch.randn(3,2)\n",
    "b = torch.randn(3,2)\n",
    "\n",
    "print(\"Add : \", a+b)\n",
    "print(\"Sub : \", a-b)\n",
    "print(\"Mul : \",a*b)\n",
    "print(\"Div : \",a/b)"
   ]
  },
  {
   "cell_type": "code",
   "execution_count": 23,
   "metadata": {},
   "outputs": [
    {
     "name": "stdout",
     "output_type": "stream",
     "text": [
      "tensor([[-0.7827,  0.3303, -1.7421],\n",
      "        [ 1.7479,  1.8001, -5.3670],\n",
      "        [-5.6102, -3.0050,  7.1121]])\n"
     ]
    }
   ],
   "source": [
    "## matrix multiplication \n",
    "a = torch.randn(3,2)\n",
    "b = torch.randn(2,3)\n",
    "print(torch.matmul(a,b))"
   ]
  },
  {
   "cell_type": "markdown",
   "metadata": {},
   "source": [
    "## Properties of tensor\n",
    "    - shape or size : length of tensor\n",
    "    - view : used to reshape the tensor\n",
    "    - dtype : give the info about data type\n",
    "    - type : will tell you about is it tensor ?"
   ]
  },
  {
   "cell_type": "code",
   "execution_count": 24,
   "metadata": {},
   "outputs": [
    {
     "name": "stdout",
     "output_type": "stream",
     "text": [
      "Size : torch.Size([3, 2]), shape : torch.Size([3, 2])\n",
      "type : <class 'torch.Tensor'>\n",
      "dtype : torch.float32\n"
     ]
    }
   ],
   "source": [
    "a = torch.randn(3,2)\n",
    "print(f\"Size : {a.size()}, shape : {a.shape}\")\n",
    "print(f\"type : {type(a)}\")\n",
    "print(f\"dtype : {a.dtype}\")"
   ]
  },
  {
   "cell_type": "code",
   "execution_count": 25,
   "metadata": {},
   "outputs": [
    {
     "name": "stdout",
     "output_type": "stream",
     "text": [
      "torch.Size([8, 2])\n",
      "torch.Size([4, 4])\n",
      "tensor([[ 2.0450, -0.8634,  0.6867, -0.1030],\n",
      "        [ 0.0562,  1.0149, -0.9270, -1.1212],\n",
      "        [-1.4179,  0.9336,  1.4546,  1.1092],\n",
      "        [-1.0660,  1.8905, -0.5040, -0.7156]])\n"
     ]
    }
   ],
   "source": [
    "a = torch.randn(8,2)\n",
    "print(a.shape)\n",
    "a = a.view(4,4)\n",
    "print(a.shape)\n",
    "print(a)"
   ]
  },
  {
   "cell_type": "markdown",
   "metadata": {},
   "source": [
    "## Type casting"
   ]
  },
  {
   "cell_type": "code",
   "execution_count": 30,
   "metadata": {},
   "outputs": [
    {
     "name": "stdout",
     "output_type": "stream",
     "text": [
      "torch.float16\n",
      "torch.float32\n"
     ]
    }
   ],
   "source": [
    "a = torch.tensor([1,2,3], dtype = torch.float16)\n",
    "print(a.dtype)\n",
    "\n",
    "a = a.type(torch.float32)\n",
    "print(a.dtype)"
   ]
  },
  {
   "cell_type": "markdown",
   "metadata": {},
   "source": [
    "## Reduce dimension of tensor"
   ]
  },
  {
   "cell_type": "code",
   "execution_count": 32,
   "metadata": {},
   "outputs": [
    {
     "name": "stdout",
     "output_type": "stream",
     "text": [
      "torch.Size([1, 2, 3])\n",
      "torch.Size([2, 3])\n"
     ]
    }
   ],
   "source": [
    "a = torch.randn(1,2,3)\n",
    "print(a.shape)\n",
    "\n",
    "a = torch.squeeze(a)\n",
    "print(a.shape)"
   ]
  },
  {
   "cell_type": "markdown",
   "metadata": {},
   "source": [
    "## Expand the dimension of tensor"
   ]
  },
  {
   "cell_type": "code",
   "execution_count": 34,
   "metadata": {},
   "outputs": [
    {
     "name": "stdout",
     "output_type": "stream",
     "text": [
      "torch.Size([2, 3])\n",
      "torch.Size([1, 2, 3])\n",
      "torch.Size([2, 1, 3])\n"
     ]
    }
   ],
   "source": [
    "a = torch.randn(2,3)\n",
    "print(a.shape)\n",
    "\n",
    "b = torch.unsqueeze(a,0)\n",
    "print(b.shape)\n",
    "\n",
    "b = torch.unsqueeze(a,1)\n",
    "print(b.shape)"
   ]
  },
  {
   "cell_type": "code",
   "execution_count": null,
   "metadata": {},
   "outputs": [],
   "source": []
  }
 ],
 "metadata": {
  "kernelspec": {
   "display_name": "Python 3",
   "language": "python",
   "name": "python3"
  },
  "language_info": {
   "codemirror_mode": {
    "name": "ipython",
    "version": 3
   },
   "file_extension": ".py",
   "mimetype": "text/x-python",
   "name": "python",
   "nbconvert_exporter": "python",
   "pygments_lexer": "ipython3",
   "version": "3.7.6"
  }
 },
 "nbformat": 4,
 "nbformat_minor": 4
}
