{
 "cells": [
  {
   "cell_type": "code",
   "execution_count": 10,
   "metadata": {},
   "outputs": [
    {
     "name": "stderr",
     "output_type": "stream",
     "text": [
      "Global seed set to 121\n",
      "GPU available: True (cuda), used: False\n",
      "TPU available: False, using: 0 TPU cores\n",
      "IPU available: False, using: 0 IPUs\n",
      "HPU available: False, using: 0 HPUs\n"
     ]
    },
    {
     "name": "stdout",
     "output_type": "stream",
     "text": [
      "(455, 30) (455,)\n",
      "(114, 30) (114,)\n",
      "torch.Size([455, 30]) torch.Size([455, 1])\n",
      "torch.Size([114, 30]) torch.Size([114, 1])\n"
     ]
    },
    {
     "name": "stderr",
     "output_type": "stream",
     "text": [
      "/home/saurabh/anaconda3/envs/tl/lib/python3.8/site-packages/pytorch_lightning/trainer/setup.py:175: PossibleUserWarning: GPU available but not used. Set `accelerator` and `devices` using `Trainer(accelerator='gpu', devices=2)`.\n",
      "  rank_zero_warn(\n"
     ]
    }
   ],
   "source": [
    "import numpy as np\n",
    "import torch\n",
    "import os\n",
    "import torch.nn as nn\n",
    "import torch.nn.functional as F\n",
    "import torch.optim as optim\n",
    "from torch.utils.data import Dataset, DataLoader\n",
    "from sklearn.datasets import load_breast_cancer\n",
    "from sklearn.model_selection import train_test_split\n",
    "import pytorch_lightning as pl\n",
    "from torchmetrics import Accuracy\n",
    "\n",
    "## set seed\n",
    "np.random.seed(121)\n",
    "torch.manual_seed(121)\n",
    "pl.seed_everything(121)\n",
    "\n",
    "X,y = load_breast_cancer(return_X_y = True)\n",
    "X_train, X_test, y_train, y_test = train_test_split(X, y, test_size=0.2, random_state=42, stratify = y)\n",
    "print(X_train.shape, y_train.shape)\n",
    "print(X_test.shape, y_test.shape)\n",
    "X_train = torch.from_numpy(X_train).type(torch.float32)\n",
    "y_train = torch.from_numpy(y_train).type(torch.float32)\n",
    "X_test = torch.from_numpy(X_test).type(torch.float32)\n",
    "y_test = torch.from_numpy(y_test).type(torch.float32)\n",
    "y_train = y_train.view(y_train.shape[0],1)\n",
    "y_test = y_test.view(y_test.shape[0],1)\n",
    "print(X_train.shape, y_train.shape)\n",
    "print(X_test.shape, y_test.shape)\n",
    "\n",
    "class MyDataset(Dataset):\n",
    "    \n",
    "    def __init__(self, x, y):\n",
    "        self.x = x\n",
    "        self.y = y\n",
    "        self.n_samples = x.shape[0]\n",
    "\n",
    "    def __len__(self):\n",
    "        return self.n_samples\n",
    "    \n",
    "    def __getitem__(self,index):\n",
    "        return self.x[index],self.y[index]\n",
    "\n",
    "class MyModel(pl.LightningModule):\n",
    "\n",
    "    def __init__(self, in_features, out_features):\n",
    "        super().__init__()\n",
    "        self.fc1 = nn.Linear(in_features = in_features, out_features= 16, bias=True)\n",
    "        self.fc2 = nn.Linear(in_features = 16, out_features= out_features, bias=True)\n",
    "        self.loss_fn = nn.BCELoss()\n",
    "        self.accuracy = Accuracy(task = \"binary\", num_classes = 2)       \n",
    "    \n",
    "    def forward(self, x):\n",
    "        x = torch.relu(self.fc1(x))\n",
    "        x = torch.sigmoid(self.fc2(x))\n",
    "        return x\n",
    "    \n",
    "    def training_step(self,batch, batch_idx):\n",
    "        x, y = batch\n",
    "        yhat = self(x)\n",
    "        loss = self.loss_fn(yhat, y)\n",
    "        acc = self.accuracy(yhat,y)\n",
    "        self.log_dict({'train_loss': loss, 'train_acc': acc}, on_step = True, on_epoch = True,prog_bar = True)\n",
    "        return loss\n",
    "\n",
    "    \n",
    "    def validation_step(self, batch, batch_idx):\n",
    "        x, y = batch\n",
    "        yhat = self(x)\n",
    "        yhat = yhat.round()\n",
    "        loss = self.loss_fn(yhat, y)\n",
    "        acc = self.accuracy(yhat,y)\n",
    "        self.log_dict({'val_loss': loss, 'val_acc': acc}, on_step = True, on_epoch = True,prog_bar = True)\n",
    "        return loss\n",
    "        \n",
    "    def configure_optimizers(self):\n",
    "        optimizer = optim.Adam(self.parameters(), lr = 1e-4)\n",
    "        return optimizer\n",
    "\n",
    "    \n",
    "    \n",
    "## Dataset\n",
    "train_ds = MyDataset(X_train, y_train)\n",
    "train_dl = DataLoader(train_ds, batch_size = 32, shuffle = True, num_workers= 16)\n",
    "test_ds = MyDataset(X_test, y_test)\n",
    "test_dl = DataLoader(test_ds, batch_size = 32, shuffle = False, num_workers= 16)\n",
    "\n",
    "\n",
    "## checkpoints\n",
    "checkpoint_callback  = pl.callbacks.ModelCheckpoint(\n",
    "                                                filename='{epoch}-{val_loss:.2f}-{val_accuracy:.2f}', \n",
    "                                                every_n_epochs = 10,\n",
    "                                                save_top_k = -1,\n",
    "                                                monitor='val_loss_epoch'\n",
    "                                                )\n",
    "\n",
    "\n",
    "model = MyModel(X_train.shape[1], 1)\n",
    "trainer = pl.Trainer(accelerator=\"cpu\",\n",
    "                     max_epochs = 100,\n",
    "                     check_val_every_n_epoch=50,\n",
    "                    callbacks=[checkpoint_callback],\n",
    "                    )\n",
    "## Train the Model\n",
    "trainer.fit(model, train_dl, test_dl)"
   ]
  },
  {
   "cell_type": "markdown",
   "metadata": {},
   "source": [
    "## Load Model"
   ]
  },
  {
   "cell_type": "code",
   "execution_count": 21,
   "metadata": {},
   "outputs": [],
   "source": [
    "model = MyModel.load_from_checkpoint(\"lightning_logs/version_42/checkpoints/epoch=99-val_loss=7.89-val_accuracy=0.00.ckpt\", \n",
    "                                     in_features = X_train.shape[1], \n",
    "                                     out_features = 1)"
   ]
  },
  {
   "cell_type": "markdown",
   "metadata": {},
   "source": [
    "## Predict"
   ]
  },
  {
   "cell_type": "code",
   "execution_count": 24,
   "metadata": {},
   "outputs": [],
   "source": [
    "yhat = model(X_test)\n",
    "yhat = yhat.round()"
   ]
  },
  {
   "cell_type": "code",
   "execution_count": 27,
   "metadata": {},
   "outputs": [
    {
     "data": {
      "text/plain": [
       "tensor(0.9211)"
      ]
     },
     "execution_count": 27,
     "metadata": {},
     "output_type": "execute_result"
    }
   ],
   "source": [
    "yhat.eq(y_test).sum()/len(y_test)"
   ]
  },
  {
   "cell_type": "code",
   "execution_count": null,
   "metadata": {},
   "outputs": [],
   "source": []
  }
 ],
 "metadata": {
  "kernelspec": {
   "display_name": "Python [conda env:tl]",
   "language": "python",
   "name": "conda-env-tl-py"
  },
  "language_info": {
   "codemirror_mode": {
    "name": "ipython",
    "version": 3
   },
   "file_extension": ".py",
   "mimetype": "text/x-python",
   "name": "python",
   "nbconvert_exporter": "python",
   "pygments_lexer": "ipython3",
   "version": "3.8.15"
  }
 },
 "nbformat": 4,
 "nbformat_minor": 4
}
