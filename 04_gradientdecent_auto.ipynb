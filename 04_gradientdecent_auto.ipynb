{
 "cells": [
  {
   "cell_type": "code",
   "execution_count": 1,
   "metadata": {},
   "outputs": [],
   "source": [
    "import torch\n",
    "import torch.nn as nn"
   ]
  },
  {
   "cell_type": "code",
   "execution_count": 2,
   "metadata": {},
   "outputs": [
    {
     "name": "stdout",
     "output_type": "stream",
     "text": [
      "torch.Size([5]) torch.Size([5])\n",
      "torch.Size([5, 1]) torch.Size([5, 1])\n"
     ]
    }
   ],
   "source": [
    "X = torch.tensor([1,2,3,4,5], dtype = torch.float32)\n",
    "Y = torch.tensor([2,4,6,8,10], dtype = torch.float32)\n",
    "print(X.shape , Y.shape)\n",
    "\n",
    "X = X.view(X.shape[0],1)\n",
    "Y = Y.view(Y.shape[0],1)\n",
    "print(X.shape , Y.shape)"
   ]
  },
  {
   "cell_type": "code",
   "execution_count": 3,
   "metadata": {},
   "outputs": [],
   "source": [
    "class FCNet(nn.Module):\n",
    "    \n",
    "    def __init__(self, input_size, output_size):\n",
    "        super(FCNet, self).__init__()\n",
    "        self.fc1 = nn.Linear(input_size, output_size)\n",
    "    \n",
    "    def forward(self,x):\n",
    "        x = self.fc1(x)\n",
    "        return x"
   ]
  },
  {
   "cell_type": "code",
   "execution_count": 4,
   "metadata": {},
   "outputs": [],
   "source": [
    "sampels, features = X.shape\n",
    "input_size = features\n",
    "output_size = features"
   ]
  },
  {
   "cell_type": "code",
   "execution_count": 5,
   "metadata": {},
   "outputs": [
    {
     "name": "stdout",
     "output_type": "stream",
     "text": [
      "Before traning : f(6.0) : -2.039379596710205\n",
      "Epoch : 1, loss : 34.4721\n",
      "Epoch : 3, loss : 11.7834\n",
      "Epoch : 5, loss : 4.0774\n",
      "Epoch : 7, loss : 1.4594\n",
      "Epoch : 9, loss : 0.5693\n",
      "Epoch : 11, loss : 0.2661\n",
      "Epoch : 13, loss : 0.1621\n",
      "Epoch : 15, loss : 0.1258\n",
      "Epoch : 17, loss : 0.1126\n",
      "Epoch : 19, loss : 0.1071\n",
      "After traning : f(6.0) : 11.437847137451172\n"
     ]
    }
   ],
   "source": [
    "lr = 0.01\n",
    "n_iters = 20\n",
    "\n",
    "X_test = torch.tensor([6], dtype = torch.float32)\n",
    "X_test = X_test.view(X_test.shape[0],1)\n",
    "\n",
    "model = FCNet(input_size, output_size)\n",
    "criteria = nn.MSELoss()\n",
    "optimizer = torch.optim.SGD(model.parameters(), lr = lr)\n",
    "\n",
    "print(f\"Before traning : f({X_test.item()}) : {model(X_test).item()}\")\n",
    "for epoch in range(n_iters):\n",
    "    y_preds = model(X)\n",
    "    loss = criteria(y_preds, Y)\n",
    "    \n",
    "    optimizer.zero_grad()\n",
    "    loss.backward()\n",
    "    optimizer.step()\n",
    "    \n",
    "    if (epoch+1)%2==0:\n",
    "        print(f\"Epoch : {epoch}, loss : {loss.item():.4f}\")\n",
    "\n",
    "print(f\"After traning : f({X_test.item()}) : {model(X_test).item()}\")   "
   ]
  },
  {
   "cell_type": "code",
   "execution_count": null,
   "metadata": {},
   "outputs": [],
   "source": []
  }
 ],
 "metadata": {
  "kernelspec": {
   "display_name": "Python 3",
   "language": "python",
   "name": "python3"
  },
  "language_info": {
   "codemirror_mode": {
    "name": "ipython",
    "version": 3
   },
   "file_extension": ".py",
   "mimetype": "text/x-python",
   "name": "python",
   "nbconvert_exporter": "python",
   "pygments_lexer": "ipython3",
   "version": "3.7.6"
  }
 },
 "nbformat": 4,
 "nbformat_minor": 4
}
