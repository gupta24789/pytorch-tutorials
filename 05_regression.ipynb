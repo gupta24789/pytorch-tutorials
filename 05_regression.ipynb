{
 "cells": [
  {
   "cell_type": "code",
   "execution_count": 1,
   "metadata": {},
   "outputs": [],
   "source": [
    "import torch\n",
    "import torch.nn as nn\n",
    "import torch.nn.functional as F\n",
    "from torch.utils.data import Dataset, DataLoader\n",
    "from sklearn.datasets import make_regression\n",
    "from sklearn.model_selection import train_test_split"
   ]
  },
  {
   "cell_type": "code",
   "execution_count": 2,
   "metadata": {},
   "outputs": [
    {
     "name": "stdout",
     "output_type": "stream",
     "text": [
      "(800, 3) (800,)\n",
      "(200, 3) (200,)\n",
      "torch.Size([800, 3]) torch.Size([800, 1])\n",
      "torch.Size([200, 3]) torch.Size([200, 1])\n"
     ]
    }
   ],
   "source": [
    "X,y = make_regression(n_samples=1000, n_features=3, n_targets=1, noise=.2)\n",
    "\n",
    "X_train,X_test, y_train, y_test = train_test_split(X,y, test_size = .2, random_state = 42)\n",
    "print(X_train.shape, y_train.shape)\n",
    "print(X_test.shape, y_test.shape)\n",
    "\n",
    "X_train = torch.from_numpy(X_train).type(torch.float32)\n",
    "y_train = torch.from_numpy(y_train).type(torch.float32)\n",
    "X_test = torch.from_numpy(X_test).type(torch.float32)\n",
    "y_test = torch.from_numpy(y_test).type(torch.float32)\n",
    "y_train = y_train.view(y_train.shape[0],1)\n",
    "y_test = y_test.view(y_test.shape[0],1)\n",
    "\n",
    "print(X_train.shape, y_train.shape)\n",
    "print(X_test.shape, y_test.shape)"
   ]
  },
  {
   "cell_type": "markdown",
   "metadata": {},
   "source": [
    " - to create dataset you have to implement below methods\n",
    "     - __getitem__\n",
    "     - **__len__**\n",
    "     \n",
    "     \n",
    " - to get the info from object yiu can implement below\n",
    "     - __str__"
   ]
  },
  {
   "cell_type": "code",
   "execution_count": 3,
   "metadata": {},
   "outputs": [],
   "source": [
    "## Create dataset\n",
    "class CustomDataset(Dataset):\n",
    "    \n",
    "    def __init__(self, X,y):\n",
    "        self.X = X\n",
    "        self.y = y\n",
    "        self.samples = X.shape[0]\n",
    "    \n",
    "    ## mandatory\n",
    "    def __getitem__(self, index):\n",
    "        return self.X[index], self.y[index]\n",
    "    \n",
    "    ## mandatory\n",
    "    def __len__(self):\n",
    "        return self.samples\n",
    "    \n",
    "    \n",
    "    ## optional\n",
    "    def __str__(self):\n",
    "        return f\"Dataset having samples : {self.samples}\""
   ]
  },
  {
   "cell_type": "code",
   "execution_count": 4,
   "metadata": {},
   "outputs": [],
   "source": [
    "train_dataset = CustomDataset(X_train,y_train)\n",
    "test_dataset = CustomDataset(X_test,y_test)"
   ]
  },
  {
   "cell_type": "code",
   "execution_count": 5,
   "metadata": {},
   "outputs": [
    {
     "name": "stdout",
     "output_type": "stream",
     "text": [
      "tensor([-0.6658,  0.1123, -1.3694])\n",
      "tensor([-183.1725])\n"
     ]
    }
   ],
   "source": [
    "first_sample = train_dataset[0]\n",
    "features, labels = first_sample\n",
    "print(features)\n",
    "print(labels)"
   ]
  },
  {
   "cell_type": "code",
   "execution_count": 6,
   "metadata": {},
   "outputs": [],
   "source": [
    "train_dataloader = DataLoader(train_dataset, batch_size=4, shuffle=True, num_workers=2)\n",
    "test_dataloader = DataLoader(test_dataset, batch_size=4, shuffle=False, num_workers=0)"
   ]
  },
  {
   "cell_type": "code",
   "execution_count": 7,
   "metadata": {},
   "outputs": [
    {
     "name": "stdout",
     "output_type": "stream",
     "text": [
      "tensor([[ 0.1037, -0.6018,  1.0321],\n",
      "        [-0.5294,  0.3544,  0.7822],\n",
      "        [ 0.7193,  0.0928,  0.8918],\n",
      "        [ 1.5350, -0.9800, -1.3872]])\n",
      "tensor([[ 82.6825],\n",
      "        [ 43.4477],\n",
      "        [150.7231],\n",
      "        [-39.9409]])\n"
     ]
    }
   ],
   "source": [
    "examples = iter(train_dataloader)\n",
    "samples = examples.next()\n",
    "features, labels = samples\n",
    "print(features)\n",
    "print(labels)"
   ]
  },
  {
   "cell_type": "code",
   "execution_count": 8,
   "metadata": {},
   "outputs": [],
   "source": [
    "## Linear Model\n",
    "class RegressionNet(nn.Module):\n",
    "    \n",
    "    def __init__(self, input_size, hidden_size, output_size):\n",
    "        super(RegressionNet, self).__init__()\n",
    "        self.fc1 = nn.Linear(input_size, hidden_size)\n",
    "        self.fc2 = nn.Linear(hidden_size, output_size)\n",
    "        \n",
    "        \n",
    "    def forward(self, x):\n",
    "        x = F.relu(self.fc1(x))\n",
    "        x = self.fc2(x)\n",
    "        return x"
   ]
  },
  {
   "cell_type": "code",
   "execution_count": 9,
   "metadata": {},
   "outputs": [
    {
     "name": "stdout",
     "output_type": "stream",
     "text": [
      "Epoch : 1, loss : 0.1933\n",
      "Epoch : 3, loss : 0.0799\n",
      "Epoch : 5, loss : 0.0176\n",
      "Epoch : 7, loss : 0.1236\n",
      "Epoch : 9, loss : 0.1094\n",
      "Epoch : 11, loss : 0.0191\n",
      "Epoch : 13, loss : 0.0213\n"
     ]
    }
   ],
   "source": [
    "sampels, features = X_train.shape\n",
    "input_size = features\n",
    "hidden_size = 5\n",
    "output_size = 1\n",
    "lr = 0.001\n",
    "n_iters = 15\n",
    "\n",
    "model = RegressionNet(input_size, hidden_size, output_size)\n",
    "criteria = nn.MSELoss()\n",
    "optimizer = torch.optim.SGD(model.parameters(), lr = lr)\n",
    "\n",
    "## Training loop\n",
    "for epoch in range(n_iters):\n",
    "    for i,(inputs, targets) in enumerate(train_dataloader):\n",
    "        y_preds = model(inputs)\n",
    "        loss = criteria(y_preds,targets)\n",
    "        \n",
    "        optimizer.zero_grad()\n",
    "        loss.backward()\n",
    "        optimizer.step()\n",
    "        \n",
    "    \n",
    "    if (epoch+1)%2==0:\n",
    "        print(f\"Epoch : {epoch}, loss : {loss.item():.4f}\")"
   ]
  },
  {
   "cell_type": "code",
   "execution_count": 10,
   "metadata": {},
   "outputs": [
    {
     "name": "stdout",
     "output_type": "stream",
     "text": [
      "Loss : 0.03976575092878193\n"
     ]
    }
   ],
   "source": [
    "## Validation\n",
    "running_loss = 0.0\n",
    "for i,(inputs, targets) in enumerate(test_dataloader):\n",
    "        y_preds = model(inputs)\n",
    "        loss = criteria(y_preds,targets)\n",
    "        running_loss += loss.item()\n",
    "print(f\"Loss : {running_loss/(i+1)}\")"
   ]
  },
  {
   "cell_type": "code",
   "execution_count": null,
   "metadata": {},
   "outputs": [],
   "source": []
  }
 ],
 "metadata": {
  "kernelspec": {
   "display_name": "Python 3",
   "language": "python",
   "name": "python3"
  },
  "language_info": {
   "codemirror_mode": {
    "name": "ipython",
    "version": 3
   },
   "file_extension": ".py",
   "mimetype": "text/x-python",
   "name": "python",
   "nbconvert_exporter": "python",
   "pygments_lexer": "ipython3",
   "version": "3.7.6"
  }
 },
 "nbformat": 4,
 "nbformat_minor": 4
}
