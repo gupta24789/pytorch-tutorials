{
 "cells": [
  {
   "cell_type": "markdown",
   "metadata": {},
   "source": [
    "- Whenever you need the gradient of any variable you can set paramter requires_grad= True\n",
    "- if any variable that has requires_grad = True is used in any computation other variables are also added to computaional graph.\n",
    "\n",
    "- There are following ways you can avaoid the variable to be added in computational graph\n",
    "    - detach\n",
    "    - required_grad = False\n",
    "    - torch.no_grad\n",
    "    \n",
    "- you can calculate the backprop on scalar value else have to provide the vector of same size\n",
    "\n",
    "- you have to empty the gradient after every iteration because value are keep adding. \n",
    "  Same you will see with the optimizer also. Before any optimizer step you have to empty the gradients"
   ]
  },
  {
   "cell_type": "code",
   "execution_count": 1,
   "metadata": {},
   "outputs": [],
   "source": [
    "import torch"
   ]
  },
  {
   "cell_type": "code",
   "execution_count": 2,
   "metadata": {},
   "outputs": [
    {
     "name": "stdout",
     "output_type": "stream",
     "text": [
      "tensor([1.4275, 1.7497, 0.0345])\n"
     ]
    }
   ],
   "source": [
    "a = torch.randn(3) ## cannot calculate the gradient\n",
    "print(a)"
   ]
  },
  {
   "cell_type": "code",
   "execution_count": 3,
   "metadata": {},
   "outputs": [
    {
     "name": "stdout",
     "output_type": "stream",
     "text": [
      "tensor([-0.1067,  1.0230, -0.5194], requires_grad=True)\n"
     ]
    }
   ],
   "source": [
    "a = torch.randn(3, requires_grad = True)  ## can calculate the gradient\n",
    "print(a)"
   ]
  },
  {
   "cell_type": "code",
   "execution_count": 4,
   "metadata": {},
   "outputs": [
    {
     "name": "stdout",
     "output_type": "stream",
     "text": [
      "tensor([-1.4927,  0.9047,  1.4927], requires_grad=True)\n",
      "tensor([-0.4927,  1.9047,  2.4927], grad_fn=<AddBackward0>)\n",
      "tensor([-1.4782,  5.7141,  7.4780], grad_fn=<MulBackward0>)\n",
      "tensor(3.9046, grad_fn=<MeanBackward0>)\n"
     ]
    }
   ],
   "source": [
    "## every variables have grad fn functions\n",
    "a = torch.randn(3, requires_grad = True)\n",
    "b = a +1 \n",
    "c = 3*b\n",
    "z = torch.mean(c)\n",
    "\n",
    "print(a)\n",
    "print(b)\n",
    "print(c)\n",
    "print(z)"
   ]
  },
  {
   "cell_type": "code",
   "execution_count": 5,
   "metadata": {},
   "outputs": [
    {
     "name": "stdout",
     "output_type": "stream",
     "text": [
      "tensor([-0.6776,  0.0348, -1.0934], requires_grad=True)\n",
      "tensor([-0.6776,  0.0348, -1.0934])\n"
     ]
    }
   ],
   "source": [
    "## you can avoid : using requires_grad = False\n",
    "a = torch.randn(3, requires_grad = True)\n",
    "print(a)\n",
    "\n",
    "a.requires_grad_(False)\n",
    "print(a)"
   ]
  },
  {
   "cell_type": "code",
   "execution_count": 6,
   "metadata": {},
   "outputs": [
    {
     "name": "stdout",
     "output_type": "stream",
     "text": [
      "tensor([ 0.1064, -0.3573,  0.6710], requires_grad=True)\n",
      "tensor([1.1064, 0.6427, 1.6710])\n"
     ]
    }
   ],
   "source": [
    "## you can avoid : using detach\n",
    "a = torch.randn(3, requires_grad = True)\n",
    "print(a)\n",
    "\n",
    "\n",
    "b = a.detach() + 1\n",
    "print(b)"
   ]
  },
  {
   "cell_type": "code",
   "execution_count": 7,
   "metadata": {},
   "outputs": [
    {
     "name": "stdout",
     "output_type": "stream",
     "text": [
      "tensor([-0.8097,  0.4454,  0.0533], requires_grad=True)\n",
      "tensor([0.1903, 1.4454, 1.0533])\n"
     ]
    }
   ],
   "source": [
    "## you can avoid : using no grad\n",
    "a = torch.randn(3, requires_grad = True)\n",
    "print(a)\n",
    "\n",
    "with torch.no_grad():\n",
    "    b = a +1\n",
    "    print(b)"
   ]
  },
  {
   "cell_type": "markdown",
   "metadata": {},
   "source": [
    "## Check the gradient"
   ]
  },
  {
   "cell_type": "code",
   "execution_count": 8,
   "metadata": {},
   "outputs": [
    {
     "name": "stdout",
     "output_type": "stream",
     "text": [
      "z:  tensor(1.7423, grad_fn=<MeanBackward0>)\n",
      "Before :  None\n",
      "After :  tensor([1., 1., 1.])\n"
     ]
    }
   ],
   "source": [
    "a = torch.randn(3,requires_grad = True)\n",
    "\n",
    "b = a+1\n",
    "z = 3*b\n",
    "z = z.mean()  \n",
    "print(\"z: \",z) ## scalar value calculate the gradient\n",
    "\n",
    "print(\"Before : \", a.grad)\n",
    "z.backward()\n",
    "print(\"After : \", a.grad)"
   ]
  },
  {
   "cell_type": "code",
   "execution_count": 9,
   "metadata": {},
   "outputs": [
    {
     "name": "stdout",
     "output_type": "stream",
     "text": [
      "z:  tensor([2.7031, 8.9237, 3.2994], grad_fn=<MulBackward0>)\n",
      "Error: z is not scalar or provide the vector\n"
     ]
    }
   ],
   "source": [
    "## if z is not scalar you will get error\n",
    "a = torch.randn(3,requires_grad = True)\n",
    "\n",
    "b = a+1\n",
    "z = 3*b\n",
    "print(\"z: \",z) ## scalar value calculate the gradient\n",
    "\n",
    "try:\n",
    "    z.backward()\n",
    "except:\n",
    "    print(\"Error: z is not scalar or provide the vector\")"
   ]
  },
  {
   "cell_type": "code",
   "execution_count": 10,
   "metadata": {},
   "outputs": [
    {
     "name": "stdout",
     "output_type": "stream",
     "text": [
      "tensor([3., 3., 3.])\n"
     ]
    }
   ],
   "source": [
    "## provide the vector to calculate the gradient\n",
    "a = torch.randn(3,requires_grad = True)\n",
    "\n",
    "b = a+1\n",
    "z = 3*b\n",
    "v = torch.tensor([1,1,1])\n",
    "z.backward(v)\n",
    "print(a.grad)"
   ]
  },
  {
   "cell_type": "code",
   "execution_count": 11,
   "metadata": {},
   "outputs": [
    {
     "name": "stdout",
     "output_type": "stream",
     "text": [
      "tensor([3., 3., 3.])\n",
      "tensor([6., 6., 6.])\n",
      "tensor([9., 9., 9.])\n"
     ]
    }
   ],
   "source": [
    "## Value are not rights for gradient\n",
    "w = torch.randn(3, requires_grad = True)\n",
    "\n",
    "for epoch in range(3):\n",
    "    model_output = (3*w).sum()\n",
    "    model_output.backward()\n",
    "    print(w.grad)"
   ]
  },
  {
   "cell_type": "code",
   "execution_count": 12,
   "metadata": {},
   "outputs": [
    {
     "name": "stdout",
     "output_type": "stream",
     "text": [
      "tensor([3., 3., 3.])\n",
      "tensor([3., 3., 3.])\n",
      "tensor([3., 3., 3.])\n"
     ]
    }
   ],
   "source": [
    "## empty gradient before every run\n",
    "w = torch.randn(3, requires_grad = True)\n",
    "\n",
    "for epoch in range(3):\n",
    "    model_output = (3*w).sum()\n",
    "    \n",
    "    model_output.backward()\n",
    "    print(w.grad)\n",
    "    w.grad.zero_()"
   ]
  },
  {
   "cell_type": "code",
   "execution_count": null,
   "metadata": {},
   "outputs": [],
   "source": []
  }
 ],
 "metadata": {
  "kernelspec": {
   "display_name": "Python 3",
   "language": "python",
   "name": "python3"
  },
  "language_info": {
   "codemirror_mode": {
    "name": "ipython",
    "version": 3
   },
   "file_extension": ".py",
   "mimetype": "text/x-python",
   "name": "python",
   "nbconvert_exporter": "python",
   "pygments_lexer": "ipython3",
   "version": "3.7.6"
  }
 },
 "nbformat": 4,
 "nbformat_minor": 4
}
