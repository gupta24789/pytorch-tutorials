{
 "cells": [
  {
   "cell_type": "code",
   "execution_count": 1,
   "metadata": {},
   "outputs": [],
   "source": [
    "import torch\n",
    "import torch.nn as nn\n",
    "import torch.nn.functional as F\n",
    "import torchvision\n",
    "import torchvision.transforms as transforms\n",
    "import matplotlib.pyplot as plt"
   ]
  },
  {
   "cell_type": "code",
   "execution_count": 2,
   "metadata": {},
   "outputs": [
    {
     "data": {
      "text/plain": [
       "'cpu'"
      ]
     },
     "execution_count": 2,
     "metadata": {},
     "output_type": "execute_result"
    }
   ],
   "source": [
    "device = \"cuda\" if torch.cuda.is_available() else \"cpu\"\n",
    "device"
   ]
  },
  {
   "cell_type": "markdown",
   "metadata": {},
   "source": [
    "## Read data"
   ]
  },
  {
   "cell_type": "code",
   "execution_count": 3,
   "metadata": {},
   "outputs": [],
   "source": [
    "train_dataset = torchvision.datasets.MNIST(root=\"./data\", train=True, transform=transforms.ToTensor(), download=True)\n",
    "test_dataset = torchvision.datasets.MNIST(root=\"./data\", train=False, transform=transforms.ToTensor())"
   ]
  },
  {
   "cell_type": "code",
   "execution_count": 4,
   "metadata": {},
   "outputs": [],
   "source": [
    "batch_size = 100"
   ]
  },
  {
   "cell_type": "code",
   "execution_count": 5,
   "metadata": {},
   "outputs": [],
   "source": [
    "train_dataloader = torch.utils.data.DataLoader(train_dataset, batch_size=batch_size, shuffle=True)\n",
    "test_dataloader = torch.utils.data.DataLoader(test_dataset, batch_size=batch_size, shuffle=False)"
   ]
  },
  {
   "cell_type": "code",
   "execution_count": 6,
   "metadata": {},
   "outputs": [],
   "source": [
    "examples = iter(train_dataloader)\n",
    "samples, labels = examples.next()"
   ]
  },
  {
   "cell_type": "code",
   "execution_count": 7,
   "metadata": {},
   "outputs": [
    {
     "name": "stdout",
     "output_type": "stream",
     "text": [
      "Samples : torch.Size([100, 1, 28, 28]), Labels : torch.Size([100])\n"
     ]
    }
   ],
   "source": [
    "## batch_size = 100\n",
    "## number_of_channel = 1\n",
    "## image size = 28*28\n",
    "print(f\"Samples : {samples.shape}, Labels : {labels.shape}\")"
   ]
  },
  {
   "cell_type": "code",
   "execution_count": 8,
   "metadata": {},
   "outputs": [
    {
     "data": {
      "image/png": "[encoded data removed]",
      "text/plain": [
       "<Figure size 432x288 with 6 Axes>"
      ]
     },
     "metadata": {
      "needs_background": "light"
     },
     "output_type": "display_data"
    }
   ],
   "source": [
    "for i in range(6):\n",
    "    plt.subplot(2,3,i+1)\n",
    "    plt.imshow(samples[i][0], cmap='gray')"
   ]
  },
  {
   "cell_type": "code",
   "execution_count": 9,
   "metadata": {},
   "outputs": [],
   "source": [
    "class NeuralNet(nn.Module):\n",
    "    \n",
    "    def __init__(self, input_channel, num_classes):\n",
    "        super(NeuralNet, self).__init__()\n",
    "        \n",
    "        self.conv1 = nn.Conv2d(in_channels = input_channel, out_channels = 16, kernel_size = 5)\n",
    "        self.relu = nn.ReLU()\n",
    "        self.pool1 = nn.MaxPool2d(5,2)\n",
    "        self.fc1 = nn.Linear(16*10*10, 120)\n",
    "        self.fc2 = nn.Linear(120,num_classes)\n",
    "        \n",
    "        \n",
    "    def forward(self, x):\n",
    "        x = self.pool1(self.relu(self.conv1(x)))\n",
    "        x = x.view(-1, 16*10*10)\n",
    "        x = self.relu(self.fc1(x))\n",
    "        x = self.fc2(x)\n",
    "        return x"
   ]
  },
  {
   "cell_type": "code",
   "execution_count": 10,
   "metadata": {},
   "outputs": [],
   "source": [
    "in_channel  = 1 ## 28*28\n",
    "num_classes = 10\n",
    "num_epochs = 3\n",
    "learning_rate = 0.01"
   ]
  },
  {
   "cell_type": "code",
   "execution_count": 11,
   "metadata": {},
   "outputs": [],
   "source": [
    "model = NeuralNet(in_channel, num_classes)\n",
    "model.to(device)\n",
    "optimizer = torch.optim.Adam(model.parameters(), lr = learning_rate)\n",
    "criteria = nn.CrossEntropyLoss()"
   ]
  },
  {
   "cell_type": "code",
   "execution_count": 12,
   "metadata": {},
   "outputs": [],
   "source": [
    "def evaluate(model):\n",
    "    model.eval()\n",
    "    \n",
    "    n_corrected = 0\n",
    "    n_samples = 0\n",
    "    \n",
    "    for images, labels in test_dataloader:\n",
    "        \n",
    "        images = images.to(device)\n",
    "        labels = labels.to(device)\n",
    "        \n",
    "        outputs = model(images)\n",
    "        _, predictions = torch.max(outputs,axis=1)\n",
    "        \n",
    "        n_corrected += (predictions==labels).sum().item()\n",
    "        n_samples += len(labels)\n",
    "    \n",
    "    return n_corrected/n_samples"
   ]
  },
  {
   "cell_type": "code",
   "execution_count": 13,
   "metadata": {},
   "outputs": [
    {
     "name": "stdout",
     "output_type": "stream",
     "text": [
      "Epoch : 1/3,  Step : 100/600, Train Loss : 0.0964, Val Accuracy : 0.9585\n",
      "Epoch : 1/3,  Step : 200/600, Train Loss : 0.1612, Val Accuracy : 0.9686\n",
      "Epoch : 1/3,  Step : 300/600, Train Loss : 0.0604, Val Accuracy : 0.9632\n",
      "Epoch : 1/3,  Step : 400/600, Train Loss : 0.0908, Val Accuracy : 0.9766\n",
      "Epoch : 1/3,  Step : 500/600, Train Loss : 0.1392, Val Accuracy : 0.9779\n",
      "Epoch : 1/3,  Step : 600/600, Train Loss : 0.0123, Val Accuracy : 0.9782\n",
      "Epoch : 2/3,  Step : 100/600, Train Loss : 0.0782, Val Accuracy : 0.9790\n",
      "Epoch : 2/3,  Step : 200/600, Train Loss : 0.1273, Val Accuracy : 0.9783\n",
      "Epoch : 2/3,  Step : 300/600, Train Loss : 0.0309, Val Accuracy : 0.9791\n",
      "Epoch : 2/3,  Step : 400/600, Train Loss : 0.0978, Val Accuracy : 0.9782\n",
      "Epoch : 2/3,  Step : 500/600, Train Loss : 0.0834, Val Accuracy : 0.9786\n",
      "Epoch : 2/3,  Step : 600/600, Train Loss : 0.0252, Val Accuracy : 0.9823\n",
      "Epoch : 3/3,  Step : 100/600, Train Loss : 0.0365, Val Accuracy : 0.9792\n",
      "Epoch : 3/3,  Step : 200/600, Train Loss : 0.0891, Val Accuracy : 0.9819\n",
      "Epoch : 3/3,  Step : 300/600, Train Loss : 0.0191, Val Accuracy : 0.9818\n",
      "Epoch : 3/3,  Step : 400/600, Train Loss : 0.0304, Val Accuracy : 0.9830\n",
      "Epoch : 3/3,  Step : 500/600, Train Loss : 0.0564, Val Accuracy : 0.9795\n",
      "Epoch : 3/3,  Step : 600/600, Train Loss : 0.0179, Val Accuracy : 0.9842\n"
     ]
    }
   ],
   "source": [
    "for epoch in range(num_epochs):\n",
    "    model.train()\n",
    "    for i, (images, labels) in enumerate(train_dataloader):\n",
    "        ## forward\n",
    "        y_pred = model(images)\n",
    "        ##loss\n",
    "        loss = criteria(y_pred, labels)\n",
    "        ## backward\n",
    "        optimizer.zero_grad()\n",
    "        loss.backward()\n",
    "        optimizer.step()\n",
    "        \n",
    "        if (i+1)%100 ==0:\n",
    "            val_accuracy = evaluate(model)\n",
    "            print(f\"Epoch : {epoch+1}/{num_epochs},  Step : {i+1}/{len(train_dataloader)}, Train Loss : {loss.item():.4f}, Val Accuracy : {val_accuracy:.4f}\")"
   ]
  },
  {
   "cell_type": "code",
   "execution_count": null,
   "metadata": {},
   "outputs": [],
   "source": []
  }
 ],
 "metadata": {
  "kernelspec": {
   "display_name": "Python 3",
   "language": "python",
   "name": "python3"
  },
  "language_info": {
   "codemirror_mode": {
    "name": "ipython",
    "version": 3
   },
   "file_extension": ".py",
   "mimetype": "text/x-python",
   "name": "python",
   "nbconvert_exporter": "python",
   "pygments_lexer": "ipython3",
   "version": "3.7.6"
  }
 },
 "nbformat": 4,
 "nbformat_minor": 4
}
