{
 "cells": [
  {
   "cell_type": "markdown",
   "metadata": {},
   "source": [
    "### Objective  : implement f(x) = 2*x"
   ]
  },
  {
   "cell_type": "markdown",
   "metadata": {},
   "source": [
    "### using numpy"
   ]
  },
  {
   "cell_type": "code",
   "execution_count": 1,
   "metadata": {},
   "outputs": [
    {
     "name": "stdout",
     "output_type": "stream",
     "text": [
      "Before training f(6): 0\n",
      "Epoch : 1, loss : 0.4400\n",
      "Epoch : 3, loss : 0.0000\n",
      "Epoch : 5, loss : 0.0000\n",
      "Epoch : 7, loss : 0.0000\n",
      "Epoch : 9, loss : 0.0000\n",
      "Epoch : 11, loss : 0.0000\n",
      "Epoch : 13, loss : 0.0000\n",
      "Epoch : 15, loss : 0.0000\n",
      "Epoch : 17, loss : 0.0000\n",
      "Epoch : 19, loss : 0.0000\n",
      "After training f(6): 12.0\n"
     ]
    }
   ],
   "source": [
    "import numpy as np\n",
    "\n",
    "X = np.array([1,2,3,4,5])\n",
    "Y = np.array([2,4,6,8,10])\n",
    "\n",
    "def forward(x):\n",
    "    return w * x\n",
    "\n",
    "def criteria(y_pred, y):\n",
    "    return ((y_pred - y)**2).mean()\n",
    "\n",
    "def gradient(x,y,y_pred):\n",
    "    return (np.dot(2*x, (y_pred-y))).mean()\n",
    "\n",
    "n_iters = 20\n",
    "lr = 0.01\n",
    "x_test = 6\n",
    "w = 0\n",
    "\n",
    "print(f\"Before training f({x_test}): {w*x_test}\")\n",
    "for epoch in range(n_iters):\n",
    "    ## forward\n",
    "    y_preds = forward(X)\n",
    "    ##loss\n",
    "    loss = criteria(y_preds,Y)\n",
    "    \n",
    "    ## backprop\n",
    "    dw = gradient(X,Y, y_preds)\n",
    "    \n",
    "    ## update weight\n",
    "    w -= lr * dw\n",
    "    \n",
    "    if (epoch+1)%2==0:\n",
    "        print(f\"Epoch : {epoch}, loss : {loss:.4f}\")\n",
    "    \n",
    "print(f\"After training f({x_test}): {w*x_test}\")"
   ]
  },
  {
   "cell_type": "markdown",
   "metadata": {},
   "source": [
    "## using torch"
   ]
  },
  {
   "cell_type": "code",
   "execution_count": 2,
   "metadata": {},
   "outputs": [
    {
     "name": "stdout",
     "output_type": "stream",
     "text": [
      "torch.Size([5]) torch.Size([5])\n",
      "torch.Size([5, 1]) torch.Size([5, 1])\n",
      "Before training f(6): 0\n",
      "Epoch : 1, loss : 29.5856\n",
      "Epoch : 3, loss : 13.3763\n",
      "Epoch : 5, loss : 6.0477\n",
      "Epoch : 7, loss : 2.7343\n",
      "Epoch : 9, loss : 1.2362\n",
      "Epoch : 11, loss : 0.5589\n",
      "Epoch : 13, loss : 0.2527\n",
      "Epoch : 15, loss : 0.1143\n",
      "Epoch : 17, loss : 0.0517\n",
      "Epoch : 19, loss : 0.0234\n",
      "After training f(6): 11.773296356201172\n"
     ]
    }
   ],
   "source": [
    "import torch\n",
    "\n",
    "X = np.array([1,2,3,4,5])\n",
    "Y = np.array([2,4,6,8,10])\n",
    "\n",
    "X = torch.from_numpy(X.astype(np.float32))\n",
    "Y = torch.from_numpy(Y.astype(np.float32))\n",
    "print(X.shape , Y.shape)\n",
    "\n",
    "X = X.view(X.shape[0],1)\n",
    "Y = Y.view(Y.shape[0],1)\n",
    "print(X.shape , Y.shape)\n",
    "\n",
    "def forward(x):\n",
    "    return w * x\n",
    "\n",
    "def criteria(y_pred, y):\n",
    "    return (torch.square(y_pred - y)).mean()\n",
    "\n",
    "def gradient(x,y,y_pred):\n",
    "    return (torch.matmul(2*x, (y_pred-y).T)).mean()\n",
    "\n",
    "n_iters = 20\n",
    "lr = 0.01\n",
    "x_test = 6\n",
    "w = 0\n",
    "\n",
    "print(f\"Before training f({x_test}): {w*x_test}\")\n",
    "for epoch in range(n_iters):\n",
    "    ## forward\n",
    "    y_preds = forward(X)\n",
    "    ##loss\n",
    "    loss = criteria(y_preds,Y)\n",
    "    \n",
    "    ## backprop\n",
    "    dw = gradient(X,Y, y_preds)\n",
    "    \n",
    "    ## update weight\n",
    "    w -= lr * dw\n",
    "    \n",
    "    if (epoch+1)%2==0:\n",
    "        print(f\"Epoch : {epoch}, loss : {loss.item():.4f}\")\n",
    "    \n",
    "print(f\"After training f({x_test}): {w*x_test}\")"
   ]
  }
 ],
 "metadata": {
  "kernelspec": {
   "display_name": "Python 3",
   "language": "python",
   "name": "python3"
  },
  "language_info": {
   "codemirror_mode": {
    "name": "ipython",
    "version": 3
   },
   "file_extension": ".py",
   "mimetype": "text/x-python",
   "name": "python",
   "nbconvert_exporter": "python",
   "pygments_lexer": "ipython3",
   "version": "3.7.6"
  }
 },
 "nbformat": 4,
 "nbformat_minor": 4
}
